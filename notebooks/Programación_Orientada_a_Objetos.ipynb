{
  "nbformat": 4,
  "nbformat_minor": 0,
  "metadata": {
    "colab": {
      "name": "Programación Orientada a Objetos.ipynb",
      "provenance": [],
      "collapsed_sections": []
    },
    "kernelspec": {
      "name": "python3",
      "display_name": "Python 3"
    },
    "language_info": {
      "name": "python"
    }
  },
  "cells": [
    {
      "cell_type": "code",
      "source": [
        "class Persona:\n",
        "\tnombre = 'Andrea'\n",
        "\n",
        "class Persona2:\n",
        "\tnombre = 'Jonathan'\n",
        "\n",
        "print(Persona)\n",
        "\n",
        "persona1 = Persona()\n",
        "persona2 = Persona2()\n",
        "persona3 = Persona()\n",
        "\n",
        "\n",
        "\n",
        "print(persona1.nombre) # Andrea\n",
        "print(persona2.nombre) # Jonathan\n",
        "print(persona3.nombre) # Andrea"
      ],
      "metadata": {
        "colab": {
          "base_uri": "https://localhost:8080/"
        },
        "id": "68p1ioqgZlRg",
        "outputId": "c50a52ac-90df-409f-f935-833655bbc22d"
      },
      "execution_count": null,
      "outputs": [
        {
          "output_type": "stream",
          "name": "stdout",
          "text": [
            "<class '__main__.Persona'>\n",
            "Andrea\n",
            "Jonathan\n"
          ]
        }
      ]
    },
    {
      "cell_type": "code",
      "source": [
        "# importación de libreria\n",
        "import random\n",
        "\n",
        "# Como se define una clase\n",
        "# class NombreDeLaClase:\n",
        "# caracteristicas \n",
        "# estática => que mi valor se mantiene dentro de cada objeto que instancie(cree)\n",
        "#       nombre = 'Andrea' \n",
        "# dinámica => se hace por medio de un constructor\n",
        "#       implicar usar la funcion __init__   que es la definición del constructor\n",
        "#       la función init tiene un parámetro que almacena las propiedades dinámicas de mi clase\n",
        "#       ese parámetro se llama self => uno mismo hace referencia a la clase en si, o sea a cada objeto cuando se crea\n",
        "#       def __init__(self, propiedadadarvalor1, propiedadadarvalor2, ...)\n",
        "#     siempre será necesario asignar el valor a la propiedad recibida como argumento en el constructor dentro de self\n",
        "#            self.propiedadadarvalor1 = propiedadadarvalor1\n",
        "\n",
        "# Cuando yo instancio una clase (o sea creo un objeto nuevo a partir de la clase) \n",
        "# en los paréntesis siempre se llama a la función init\n",
        "# objeto1 = NombreDeLaClase() => esto significaría que no hay función init definida\n",
        "# objeto2 = NombreDeLaClase(propiedadadarvalor1) => esto significaría que hay un constructor en la clase\n",
        "#                           con esta estrcutura  => def __init__(self, propiedadadarvalor1)\n",
        "#\n",
        "# Además de la función init, todos los métodos(funciones propias de la clase) llevan el parámetro (self, ...)\n",
        "#       def nombredelmetodo(self):\n",
        "## Definición de la clase persona\n",
        "\n",
        "class ClasePersona:\n",
        "  def __init__(self, nombre, salario = 0, email = None):\n",
        "   self.nombre = nombre\n",
        "   self.salario = salario\n",
        "   self.email = email\n",
        "\n",
        "  # métodos\n",
        "  def saludar(self):\n",
        "    print('Hola, soy' + self.nombre)\n",
        "\n",
        "  def despedirse(self, fraseExtra):\n",
        "    print(self.nombre + ', fuera. ' + fraseExtra)          \n",
        "        \n",
        "persona1 = ClasePersona(9.5)\n",
        "persona2 = ClasePersona('Jonathan', 3400)\n",
        "persona3 = ClasePersona('Hannia', 3400)\n",
        "\n",
        "print(persona1.nombre)\n",
        "print(persona1.salario)\n",
        "\n",
        "print(persona2.nombre)\n",
        "\n",
        "class SistemaAdmin:\n",
        "  def __init__(self, alumnos = None, promedioDeSalarios = 0):\n",
        "   self.alumnos = alumnos\n",
        "   self.promedioDeSalarios = promedioDeSalarios\n",
        "\n",
        "  def calculoDeSalarios(self):\n",
        "    for alumno in self.alumnos:\n",
        "      self.promedioDeSalarios += alumno.salario\n",
        "\n",
        "    self.promedioDeSalarios = self.promedioDeSalarios / len(self.alumnos)\n",
        "    print(self.promedioDeSalarios)\n",
        "\n",
        "\n",
        "alumnos = []\n",
        "for alumno in ['Hannia','Aline', 'Johel','Joseph']:\n",
        "  persona = ClasePersona(alumno, random.randint(500, 2000))\n",
        "  alumnos.append(persona)\n",
        "\n",
        "print(alumnos)\n",
        "for alumno in alumnos:\n",
        "  print(alumno.saludar())\n",
        "\n",
        "print(alumnos[0].despedirse('nos vemos mañana'))\n",
        "\n",
        "miSistemaDeAlumnos = SistemaAdmin(alumnos)\n",
        "\n",
        "miSistemaDeAlumnos.calculoDeSalarios()\n"
      ],
      "metadata": {
        "colab": {
          "base_uri": "https://localhost:8080/"
        },
        "id": "9WcTXvk5ZwVV",
        "outputId": "80d453bb-883a-45ec-fa3d-badb1ab21e59"
      },
      "execution_count": null,
      "outputs": [
        {
          "output_type": "stream",
          "name": "stdout",
          "text": [
            "9.5\n",
            "0\n",
            "Jonathan\n",
            "[<__main__.ClasePersona object at 0x7fc6a022bf50>, <__main__.ClasePersona object at 0x7fc6a022bed0>, <__main__.ClasePersona object at 0x7fc6a022f0d0>, <__main__.ClasePersona object at 0x7fc6a022f110>]\n",
            "Hola, soyHannia\n",
            "None\n",
            "Hola, soyAline\n",
            "None\n",
            "Hola, soyJohel\n",
            "None\n",
            "Hola, soyJoseph\n",
            "None\n",
            "Hannia, fuera. nos vemos mañana\n",
            "None\n",
            "1087.0\n"
          ]
        }
      ]
    },
    {
      "cell_type": "code",
      "source": [
        "# Sistema\n",
        "print(alumnos)\n",
        "\n"
      ],
      "metadata": {
        "id": "dIWd2MWHhcKi"
      },
      "execution_count": null,
      "outputs": []
    },
    {
      "cell_type": "markdown",
      "source": [
        "# Python: Programación Orientada a Objetos\n",
        "\n",
        "## 1. Creación de una Clase y Objetos"
      ],
      "metadata": {
        "id": "QCfb0ZzB8Jb4"
      }
    },
    {
      "cell_type": "code",
      "execution_count": null,
      "metadata": {
        "id": "cYNBKsXptA-U"
      },
      "outputs": [],
      "source": [
        "# Clase\n",
        "class Clase:\n",
        "  # Atributos\n",
        "  x = 10\n",
        "  y = \"Hola\""
      ]
    },
    {
      "cell_type": "code",
      "source": [
        "# Objeto\n",
        "C1 = Clase()"
      ],
      "metadata": {
        "id": "5qxp6IcO6tfw"
      },
      "execution_count": null,
      "outputs": []
    },
    {
      "cell_type": "code",
      "source": [
        "C1.x"
      ],
      "metadata": {
        "colab": {
          "base_uri": "https://localhost:8080/"
        },
        "id": "fzDyB6iO7IRg",
        "outputId": "c84548a0-9bba-45ca-b994-d11e8aff1b87"
      },
      "execution_count": null,
      "outputs": [
        {
          "output_type": "execute_result",
          "data": {
            "text/plain": [
              "10"
            ]
          },
          "metadata": {},
          "execution_count": 16
        }
      ]
    },
    {
      "cell_type": "code",
      "source": [
        "C1.y"
      ],
      "metadata": {
        "colab": {
          "base_uri": "https://localhost:8080/",
          "height": 37
        },
        "id": "CnRE9o8t7P1p",
        "outputId": "8e1996a5-102e-4e98-f3b4-f9e9442e8fe9"
      },
      "execution_count": null,
      "outputs": [
        {
          "output_type": "execute_result",
          "data": {
            "application/vnd.google.colaboratory.intrinsic+json": {
              "type": "string"
            },
            "text/plain": [
              "'Hola'"
            ]
          },
          "metadata": {},
          "execution_count": 12
        }
      ]
    },
    {
      "cell_type": "code",
      "source": [
        "# Objeto \n",
        "C2 = Clase()"
      ],
      "metadata": {
        "id": "ffcxhJMv7i1h"
      },
      "execution_count": null,
      "outputs": []
    },
    {
      "cell_type": "code",
      "source": [
        "C2.x"
      ],
      "metadata": {
        "colab": {
          "base_uri": "https://localhost:8080/"
        },
        "id": "ud6xQhWS7lVm",
        "outputId": "baf641d9-6a98-459b-ddfb-08f1d6e56029"
      },
      "execution_count": null,
      "outputs": [
        {
          "output_type": "execute_result",
          "data": {
            "text/plain": [
              "10"
            ]
          },
          "metadata": {},
          "execution_count": 18
        }
      ]
    },
    {
      "cell_type": "code",
      "source": [
        "C2.x = 15"
      ],
      "metadata": {
        "id": "x7kUgafQ7oRa"
      },
      "execution_count": null,
      "outputs": []
    },
    {
      "cell_type": "code",
      "source": [
        "C2.x"
      ],
      "metadata": {
        "colab": {
          "base_uri": "https://localhost:8080/"
        },
        "id": "lK_osgn08DDw",
        "outputId": "6996fc22-6e55-4a43-a957-e82af57c91f9"
      },
      "execution_count": null,
      "outputs": [
        {
          "output_type": "execute_result",
          "data": {
            "text/plain": [
              "15"
            ]
          },
          "metadata": {},
          "execution_count": 20
        }
      ]
    },
    {
      "cell_type": "markdown",
      "source": [
        "## 2. Function __init()__"
      ],
      "metadata": {
        "id": "4l1B4uuW82G3"
      }
    },
    {
      "cell_type": "code",
      "source": [
        "class Person:\n",
        "  def __init__(self, firstname, lastname, age):\n",
        "    self.firstname = firstname\n",
        "    self.lastname  = lastname\n",
        "    self.age = age"
      ],
      "metadata": {
        "id": "19adUJkQ8EOM"
      },
      "execution_count": null,
      "outputs": []
    },
    {
      "cell_type": "code",
      "source": [
        "P1 = Person(\"Didier\", \"Gamboa\", 28)"
      ],
      "metadata": {
        "id": "V9ZG3i_a-IJW"
      },
      "execution_count": null,
      "outputs": []
    },
    {
      "cell_type": "code",
      "source": [
        "P1.firstname"
      ],
      "metadata": {
        "colab": {
          "base_uri": "https://localhost:8080/",
          "height": 37
        },
        "id": "TnDtVpHn-O-K",
        "outputId": "870ac331-a1cb-4afd-9714-60e0af31e476"
      },
      "execution_count": null,
      "outputs": [
        {
          "output_type": "execute_result",
          "data": {
            "application/vnd.google.colaboratory.intrinsic+json": {
              "type": "string"
            },
            "text/plain": [
              "'Didier'"
            ]
          },
          "metadata": {},
          "execution_count": 24
        }
      ]
    },
    {
      "cell_type": "code",
      "source": [
        "P1.lastname"
      ],
      "metadata": {
        "colab": {
          "base_uri": "https://localhost:8080/",
          "height": 37
        },
        "id": "7l-XAn6Q-Yb5",
        "outputId": "92041e89-9269-4062-da3f-c85ebbf4a8f6"
      },
      "execution_count": null,
      "outputs": [
        {
          "output_type": "execute_result",
          "data": {
            "application/vnd.google.colaboratory.intrinsic+json": {
              "type": "string"
            },
            "text/plain": [
              "'Gamboa'"
            ]
          },
          "metadata": {},
          "execution_count": 25
        }
      ]
    },
    {
      "cell_type": "code",
      "source": [
        "P1.age"
      ],
      "metadata": {
        "colab": {
          "base_uri": "https://localhost:8080/"
        },
        "id": "YZh_c6ZP-aFn",
        "outputId": "5e5f6755-752d-400b-fde4-456ea650ff66"
      },
      "execution_count": null,
      "outputs": [
        {
          "output_type": "execute_result",
          "data": {
            "text/plain": [
              "28"
            ]
          },
          "metadata": {},
          "execution_count": 26
        }
      ]
    },
    {
      "cell_type": "code",
      "source": [
        "class Person_V2:\n",
        "  def __init__(myobject, a, b, c):\n",
        "    myobject.firstname = a\n",
        "    myobject.lastname  = b\n",
        "    myobject.age = c"
      ],
      "metadata": {
        "id": "Mbkf4ePt-a_x"
      },
      "execution_count": null,
      "outputs": []
    },
    {
      "cell_type": "code",
      "source": [
        "P2 = Person_V2(\"Juan\", \"Perez\", 40)"
      ],
      "metadata": {
        "id": "GvARdx_a_Ekb"
      },
      "execution_count": null,
      "outputs": []
    },
    {
      "cell_type": "code",
      "source": [
        "P2.firstname"
      ],
      "metadata": {
        "colab": {
          "base_uri": "https://localhost:8080/",
          "height": 37
        },
        "id": "xxf6l6Gl_Nwz",
        "outputId": "670d522b-a5ac-43cf-e193-15ee662759bb"
      },
      "execution_count": null,
      "outputs": [
        {
          "output_type": "execute_result",
          "data": {
            "application/vnd.google.colaboratory.intrinsic+json": {
              "type": "string"
            },
            "text/plain": [
              "'Juan'"
            ]
          },
          "metadata": {},
          "execution_count": 30
        }
      ]
    },
    {
      "cell_type": "code",
      "source": [
        "P2.lastname"
      ],
      "metadata": {
        "colab": {
          "base_uri": "https://localhost:8080/",
          "height": 37
        },
        "id": "QEz0hx___WaE",
        "outputId": "9e79f4cf-84fe-40d0-d2d1-3e72e8449f2c"
      },
      "execution_count": null,
      "outputs": [
        {
          "output_type": "execute_result",
          "data": {
            "application/vnd.google.colaboratory.intrinsic+json": {
              "type": "string"
            },
            "text/plain": [
              "'Perez'"
            ]
          },
          "metadata": {},
          "execution_count": 31
        }
      ]
    },
    {
      "cell_type": "code",
      "source": [
        "P2.age"
      ],
      "metadata": {
        "colab": {
          "base_uri": "https://localhost:8080/"
        },
        "id": "wsl-HQZX_YV-",
        "outputId": "4b61491d-4fd9-4450-b146-0fd1fa60f6c8"
      },
      "execution_count": null,
      "outputs": [
        {
          "output_type": "execute_result",
          "data": {
            "text/plain": [
              "40"
            ]
          },
          "metadata": {},
          "execution_count": 32
        }
      ]
    },
    {
      "cell_type": "markdown",
      "source": [
        "## 3. Clases Anidadas"
      ],
      "metadata": {
        "id": "nt22Cya8CBrk"
      }
    },
    {
      "cell_type": "code",
      "source": [
        "class Dept:\n",
        "  def __init__(self, dname):\n",
        "    self.dname = dname\n",
        "\n",
        "  class Prof:\n",
        "    def __init__(self, pname):\n",
        "      self.pname = pname"
      ],
      "metadata": {
        "id": "u-rN4ou1_b-v"
      },
      "execution_count": null,
      "outputs": []
    },
    {
      "cell_type": "code",
      "source": [
        "math = Dept(\"Math\")"
      ],
      "metadata": {
        "id": "LOS1Y8DvBfQ9"
      },
      "execution_count": null,
      "outputs": []
    },
    {
      "cell_type": "code",
      "source": [
        "mathProf = Dept.Prof(\"Rogelio\")"
      ],
      "metadata": {
        "id": "TC8YN6p8BjB1"
      },
      "execution_count": null,
      "outputs": []
    },
    {
      "cell_type": "code",
      "source": [
        "math.dname"
      ],
      "metadata": {
        "colab": {
          "base_uri": "https://localhost:8080/",
          "height": 37
        },
        "id": "DQ0G_A5vBnO5",
        "outputId": "97114844-bbbf-4b7d-9c44-69f037c01791"
      },
      "execution_count": null,
      "outputs": [
        {
          "output_type": "execute_result",
          "data": {
            "application/vnd.google.colaboratory.intrinsic+json": {
              "type": "string"
            },
            "text/plain": [
              "'Math'"
            ]
          },
          "metadata": {},
          "execution_count": 36
        }
      ]
    },
    {
      "cell_type": "code",
      "source": [
        "mathProf.pname"
      ],
      "metadata": {
        "colab": {
          "base_uri": "https://localhost:8080/",
          "height": 37
        },
        "id": "c4vkxRGiBo2D",
        "outputId": "602a1189-e084-42d2-f2a3-1e10e2a69ddc"
      },
      "execution_count": null,
      "outputs": [
        {
          "output_type": "execute_result",
          "data": {
            "application/vnd.google.colaboratory.intrinsic+json": {
              "type": "string"
            },
            "text/plain": [
              "'Rogelio'"
            ]
          },
          "metadata": {},
          "execution_count": 38
        }
      ]
    },
    {
      "cell_type": "markdown",
      "source": [
        "## 4. Métodos"
      ],
      "metadata": {
        "id": "fdzvqCX0CP6z"
      }
    },
    {
      "cell_type": "code",
      "source": [
        "class Person:\n",
        "  def __init__(self, firstname, lastname, age):\n",
        "    self.firstname = firstname\n",
        "    self.lastname  = lastname\n",
        "    self.age = age\n",
        "  \n",
        "  def greetings(self):\n",
        "    print(\"Hello my name is {} {}\".format(self.firstname, self.lastname))"
      ],
      "metadata": {
        "id": "D3ciDvC4BrNA"
      },
      "execution_count": null,
      "outputs": []
    },
    {
      "cell_type": "code",
      "source": [
        "P1 = Person(\"Didier\", \"Gamboa\", 28)"
      ],
      "metadata": {
        "id": "Zc_GipA6CRBR"
      },
      "execution_count": null,
      "outputs": []
    },
    {
      "cell_type": "code",
      "source": [
        "P1.greetings()"
      ],
      "metadata": {
        "colab": {
          "base_uri": "https://localhost:8080/"
        },
        "id": "z9wxTvxnC21o",
        "outputId": "c21cd221-7a4c-47ac-f374-a3d1fdeca6ca"
      },
      "execution_count": null,
      "outputs": [
        {
          "output_type": "stream",
          "name": "stdout",
          "text": [
            "Hello my name is Didier Gamboa\n"
          ]
        }
      ]
    },
    {
      "cell_type": "code",
      "source": [
        "del P1.firstname"
      ],
      "metadata": {
        "id": "1IDK9A0yC3_u"
      },
      "execution_count": null,
      "outputs": []
    },
    {
      "cell_type": "code",
      "source": [
        "P1.firstname"
      ],
      "metadata": {
        "colab": {
          "base_uri": "https://localhost:8080/",
          "height": 164
        },
        "id": "_svzO18WD_bm",
        "outputId": "9190e837-e0b7-4ec0-85ba-e1c403729b63"
      },
      "execution_count": null,
      "outputs": [
        {
          "output_type": "error",
          "ename": "AttributeError",
          "evalue": "ignored",
          "traceback": [
            "\u001b[0;31m---------------------------------------------------------------------------\u001b[0m",
            "\u001b[0;31mAttributeError\u001b[0m                            Traceback (most recent call last)",
            "\u001b[0;32m<ipython-input-56-921627549f0e>\u001b[0m in \u001b[0;36m<module>\u001b[0;34m()\u001b[0m\n\u001b[0;32m----> 1\u001b[0;31m \u001b[0mP1\u001b[0m\u001b[0;34m.\u001b[0m\u001b[0mfirstname\u001b[0m\u001b[0;34m\u001b[0m\u001b[0;34m\u001b[0m\u001b[0m\n\u001b[0m",
            "\u001b[0;31mAttributeError\u001b[0m: 'Person' object has no attribute 'firstname'"
          ]
        }
      ]
    },
    {
      "cell_type": "code",
      "source": [
        "P1.firstname = \"Didier\""
      ],
      "metadata": {
        "id": "UsXRATNXDPpB"
      },
      "execution_count": null,
      "outputs": []
    },
    {
      "cell_type": "code",
      "source": [
        "P1.firstname"
      ],
      "metadata": {
        "colab": {
          "base_uri": "https://localhost:8080/",
          "height": 37
        },
        "id": "pbTJOMtcD858",
        "outputId": "7d14098b-d600-4f91-d108-588ba68b63a2"
      },
      "execution_count": null,
      "outputs": [
        {
          "output_type": "execute_result",
          "data": {
            "application/vnd.google.colaboratory.intrinsic+json": {
              "type": "string"
            },
            "text/plain": [
              "'Didier'"
            ]
          },
          "metadata": {},
          "execution_count": 58
        }
      ]
    },
    {
      "cell_type": "code",
      "source": [
        "del P1"
      ],
      "metadata": {
        "id": "x5GJKE0LDSdh"
      },
      "execution_count": null,
      "outputs": []
    },
    {
      "cell_type": "code",
      "source": [
        "P1"
      ],
      "metadata": {
        "colab": {
          "base_uri": "https://localhost:8080/",
          "height": 164
        },
        "id": "Y1CsP5bNDa6D",
        "outputId": "b62ac94b-cb46-4d5d-bad6-714843d857db"
      },
      "execution_count": null,
      "outputs": [
        {
          "output_type": "error",
          "ename": "NameError",
          "evalue": "ignored",
          "traceback": [
            "\u001b[0;31m---------------------------------------------------------------------------\u001b[0m",
            "\u001b[0;31mNameError\u001b[0m                                 Traceback (most recent call last)",
            "\u001b[0;32m<ipython-input-47-4206808f8383>\u001b[0m in \u001b[0;36m<module>\u001b[0;34m()\u001b[0m\n\u001b[0;32m----> 1\u001b[0;31m \u001b[0mP1\u001b[0m\u001b[0;34m\u001b[0m\u001b[0;34m\u001b[0m\u001b[0m\n\u001b[0m",
            "\u001b[0;31mNameError\u001b[0m: name 'P1' is not defined"
          ]
        }
      ]
    },
    {
      "cell_type": "code",
      "source": [
        ""
      ],
      "metadata": {
        "id": "LkE8WZrCDbf7"
      },
      "execution_count": null,
      "outputs": []
    }
  ]
}