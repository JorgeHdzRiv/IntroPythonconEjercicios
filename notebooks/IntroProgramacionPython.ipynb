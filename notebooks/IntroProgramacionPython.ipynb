{
  "cells": [
    {
      "cell_type": "markdown",
      "metadata": {
        "id": "V7wzI38DKsxk"
      },
      "source": [
        "# Introducción a la programación con Python\n",
        "\n",
        "En este notebook introducimos una cantidad suficiente de Python para poder comenzar a programar por nuestra cuenta y continuar nuestro aprendizaje.\n",
        "\n",
        "El flujo y ejemplos están basados en el tutorial [A Whirlwind Tour of Python](https://jakevdp.github.io/WhirlwindTourOfPython/) de Jake VanderPlas, autor de \"The Python Data Science Handbook\".\n"
      ]
    },
    {
      "cell_type": "markdown",
      "metadata": {
        "id": "MWTkfQnqwkHk"
      },
      "source": [
        "# Agenda\n",
        "\n",
        "## 0. Variables y tipos.\n",
        "## 1.  Listas y Diccionarios\n",
        "## 2. Operadores básicos.\n",
        "## 3. Condiciones.\n",
        "## 4. Ciclos.\n",
        "## 5. Funciones.\n",
        "\n"
      ]
    },
    {
      "cell_type": "markdown",
      "metadata": {
        "id": "dQ_qJMnbwObF"
      },
      "source": [
        "## Sintaxis básica en Python\n",
        "### Veamos primero un ejemplo básico de lo que podemos hacer en Python"
      ]
    },
    {
      "cell_type": "markdown",
      "metadata": {
        "id": "NYrGDLV1xMNU"
      },
      "source": [
        "### Primero una suma simple"
      ]
    },
    {
      "cell_type": "code",
      "execution_count": 1,
      "metadata": {
        "colab": {
          "base_uri": "https://localhost:8080/"
        },
        "id": "0tJ3OpOlOyT6",
        "outputId": "0ec92d88-6983-43a7-f004-599b9e64c216"
      },
      "outputs": [
        {
          "name": "stdout",
          "output_type": "stream",
          "text": [
            "45\n"
          ]
        }
      ],
      "source": [
        "x = (1 + 2 + 3 + 4 +                        \n",
        "     #aqui el enter no afecta la suma o algo asi\n",
        "    5 + 6 + 7 + 8 + 9)\n",
        "print(x)"
      ]
    },
    {
      "cell_type": "markdown",
      "metadata": {
        "id": "Ad61V7uOxQLv"
      },
      "source": [
        "## Ahora una combinación simple de instrucciones"
      ]
    },
    {
      "cell_type": "code",
      "execution_count": 2,
      "metadata": {
        "colab": {
          "base_uri": "https://localhost:8080/"
        },
        "id": "Yurd3FA9xbo6",
        "outputId": "e6cea378-d5f4-42b9-d494-57c5c0082691"
      },
      "outputs": [
        {
          "name": "stdout",
          "output_type": "stream",
          "text": [
            "lower: [0, 1, 2, 3, 4]\n",
            "upper: [5, 6, 7, 8, 9]\n"
          ]
        }
      ],
      "source": [
        "# set the midpoint\n",
        "midpoint = 5\n",
        "\n",
        "# make two empty lists\n",
        "lower = []\n",
        "upper = []\n",
        "\n",
        "# split the numbers into lower and upper\n",
        "for i in range(10):\n",
        "    if (i < midpoint):\n",
        "        lower.append(i)\n",
        "    else:\n",
        "        upper.append(i)\n",
        "        \n",
        "print(\"lower:\", lower)\n",
        "print(\"upper:\", upper)"
      ]
    },
    {
      "cell_type": "markdown",
      "metadata": {
        "id": "Ud-Em2B6yCpO"
      },
      "source": [
        "## Python es noble con la sintaxis"
      ]
    },
    {
      "cell_type": "code",
      "execution_count": 6,
      "metadata": {
        "colab": {
          "base_uri": "https://localhost:8080/"
        },
        "id": "Dh-xMWagQc57",
        "outputId": "e746c358-f8b7-428f-dea5-d2812aa1a83a"
      },
      "outputs": [
        {
          "data": {
            "text/plain": [
              "3"
            ]
          },
          "execution_count": 6,
          "metadata": {},
          "output_type": "execute_result"
        }
      ],
      "source": [
        "x = 1 +                                 2                           #El espacio en blanco dentro de las líneas no importa\n",
        "x"
      ]
    },
    {
      "cell_type": "markdown",
      "metadata": {
        "id": "asekzt5r0hOa"
      },
      "source": [
        "## Algunas notas de Python\n",
        "- Los comentarios están marcados con #\n",
        "- Fin de línea finaliza una declaración\n",
        "- El punto y coma puede opcionalmente terminar una declaración\n",
        "- Sangría: ¡el espacio en blanco importa!\n",
        "- El espacio en blanco dentro de las líneas no importa\n",
        "- Los paréntesis son para agrupar o llamar"
      ]
    },
    {
      "cell_type": "markdown",
      "metadata": {
        "id": "SN1N1ZNSySOd"
      },
      "source": [
        "## Ahora nuestro primer programita en Python"
      ]
    },
    {
      "cell_type": "code",
      "execution_count": 8,
      "metadata": {
        "colab": {
          "base_uri": "https://localhost:8080/"
        },
        "id": "KrgmmPvV7_aP",
        "outputId": "0d6e62c4-504d-42cd-ee0f-59b127621947"
      },
      "outputs": [
        {
          "name": "stdout",
          "output_type": "stream",
          "text": [
            "Hola, Mundo! 3\n",
            "Hola, Mundo x cambio el valor es:  5\n"
          ]
        }
      ],
      "source": [
        "print(\"Hola, Mundo!\", x)\n",
        "#El valor que toma x es el guardado en la memoria\n",
        "\n",
        "#Asignamos otro valor a x\n",
        "x=5\n",
        "print(\"Hola Mundo, x cambio el valor actual es: \",x)"
      ]
    },
    {
      "cell_type": "markdown",
      "metadata": {
        "id": "lpenQGogyb6G"
      },
      "source": [
        "## Las listas son de las estructuras de datos mas utilizadas de Python"
      ]
    },
    {
      "cell_type": "code",
      "execution_count": 9,
      "metadata": {
        "colab": {
          "base_uri": "https://localhost:8080/"
        },
        "id": "KBzaTB7zRSML",
        "outputId": "c1df894f-de5f-4be4-c257-6ffc62d0b0cb"
      },
      "outputs": [
        {
          "name": "stdout",
          "output_type": "stream",
          "text": [
            "[4, 2, 3, 1]\n"
          ]
        }
      ],
      "source": [
        "L = [4, 2, 3, 1]\n",
        "print(L)"
      ]
    },
    {
      "cell_type": "markdown",
      "metadata": {
        "id": "6sUCRJXTyqcY"
      },
      "source": [
        "### Hasta la podemos ordenar"
      ]
    },
    {
      "cell_type": "code",
      "execution_count": 10,
      "metadata": {
        "colab": {
          "base_uri": "https://localhost:8080/"
        },
        "id": "LKw4-t6ZRYuB",
        "outputId": "06133881-39be-4edd-97ce-35f308dd7560"
      },
      "outputs": [
        {
          "data": {
            "text/plain": [
              "[1, 2, 3, 4]"
            ]
          },
          "execution_count": 10,
          "metadata": {},
          "output_type": "execute_result"
        }
      ],
      "source": [
        "#Uno de los muchos metodos para listas es sort\n",
        "L.sort()\n",
        "L"
      ]
    },
    {
      "cell_type": "markdown",
      "metadata": {
        "id": "5UVwrIGcwTzy"
      },
      "source": [
        "## Variables\n",
        "\n",
        "- Las variables de Python son punteros\n",
        "\n",
        "Pero que es un puntero?\n",
        "Un puntero es un objeto de lenguaje de programación que almacena la dirección de memoria de otro valor ubicado en la memoria de la computadora.\n",
        "\n",
        "- Todo es un objeto\n",
        "\n",
        "|Type|\tExample|\tDescription\n",
        "|---|---|---|\n",
        "int\t|x = 1|\tintegers (i.e., whole numbers)\n",
        "float\t|x = 1.0\t|floating-point numbers (i.e., real numbers)\n",
        "complex\t|x = 1 + 2j|\tComplex numbers (i.e., numbers with real and imaginary part)\n",
        "bool\t|x = True|\tBoolean: True/False values\n",
        "str\t|x = 'abc'|\tString: characters or text\n",
        "NoneType|\tx = None|\tSpecial object indicating nulls"
      ]
    },
    {
      "cell_type": "markdown",
      "metadata": {
        "id": "hXJEBJTWy7C_"
      },
      "source": [
        "Las variables son **ubicaciones de memoria reservada** para guardar valores y en Python no se declaran explícitamente.\n",
        "\n",
        "Usamos  el signo igual (=) para crear asignaciones de variables.\n",
        "\n",
        "El operando del lado izquierdo del **signo igual (=) es el nombre de la variable**, y el operando de la derecha es el valor guardado en esa variable."
      ]
    },
    {
      "cell_type": "markdown",
      "metadata": {
        "id": "D4HkIVrSzQ7w"
      },
      "source": [
        "# Definiendo una variable\n",
        "\n",
        "Podemos crear una variable llamada edad y asignarle un valor numérico:\n",
        "\n",
        "**edad = 25**\n",
        "\n",
        "O crear otra variable donde guardamos tu nombre como cadena de caracteres:\n",
        "\n",
        "**nombre = “Ada Lovelace”**\n",
        "\n",
        "**Dato curioso**\n",
        "\n",
        "Ada Lovelace, la primer mujer informática de la historia reconocida\n"
      ]
    },
    {
      "cell_type": "code",
      "execution_count": 11,
      "metadata": {
        "id": "BMBaPdSV8xc7"
      },
      "outputs": [],
      "source": [
        "edad = 25"
      ]
    },
    {
      "cell_type": "code",
      "execution_count": 12,
      "metadata": {
        "id": "JQlT4LgPzbgi"
      },
      "outputs": [],
      "source": [
        "nombre = \"Ada Lovelace\""
      ]
    },
    {
      "cell_type": "code",
      "execution_count": 14,
      "metadata": {
        "colab": {
          "base_uri": "https://localhost:8080/"
        },
        "id": "0jIbpsFZNC0f",
        "outputId": "19253abe-b784-470c-8cd9-301fa0618a5c"
      },
      "outputs": [
        {
          "name": "stdout",
          "output_type": "stream",
          "text": [
            "Mi nombre es:  Ada Lovelace y mi edad es:  25\n"
          ]
        }
      ],
      "source": [
        "#Haciendo uso de las variables\n",
        "print(\"Mi nombre es: \",nombre,\"y mi edad es: \",edad)"
      ]
    },
    {
      "cell_type": "markdown",
      "metadata": {
        "id": "mtpj5EN2zheO"
      },
      "source": [
        "# Listas, tuplas y diccionarios"
      ]
    },
    {
      "cell_type": "markdown",
      "metadata": {
        "id": "H_CIjqEqznqT"
      },
      "source": [
        "Una Lista puede guardar todo tipo de variables, y puede contener cuantas variables desees.\n",
        "\n",
        "Los valores guardados en una lista se pueden acceder usando el operador slice ([ ] y [:]) con índices en 0 al inicio de la lista y hasta el final -1.\n",
        "\n",
        "Las tuplas pueden tener todo tipo de datos inclusive listas dentro de ellas pero las tuplas son inmutables una vez definida la tupla y sus valores no se pueden modificar.\n",
        "\n",
        "\n",
        "Los diccionarios son similares a las listas, pero funcionan con llaves(claves) y valores en vez de índices."
      ]
    },
    {
      "cell_type": "markdown",
      "metadata": {
        "id": "rju0J4WczqbN"
      },
      "source": [
        "## Declarando lista,tupla,diccionario\n",
        "\n",
        "Podemos crear una lista y asignarle cualquier tipo de dato como números y cadenas de caracteres:\n",
        "\n",
        "\n",
        "lista = [ 'abcd', 389 , 2.25, 'Willemien', 70.2 ]\n",
        "\n",
        "tupla = ( 'abcd', 389 , 2.25, 'Willemien', 70.2 )\n",
        "\n",
        "diccionario = {valor:123,nombre:\"juan\"}\n",
        "\n",
        "\n"
      ]
    },
    {
      "cell_type": "code",
      "execution_count": 26,
      "metadata": {
        "colab": {
          "base_uri": "https://localhost:8080/"
        },
        "id": "HZz9b10tSJNA",
        "outputId": "470a2b39-004e-4ca6-dee8-5261a8c5b95d"
      },
      "outputs": [
        {
          "name": "stdout",
          "output_type": "stream",
          "text": [
            "[23, 'string', True, 3.14, ('tupla', 123)]\n",
            "(23, 'string', True, 3.14, ['lista', 123])\n",
            "{'nombre': 'jorge', 'numeros': 123, 'lista': [1, 3, 'nombre'], 'tupla': (1, 5, 'string')}\n"
          ]
        }
      ],
      "source": [
        "#Lista\n",
        "x = [23,'string',True,3.14,('tupla',123)]\n",
        "print(x)\n",
        "#Tupla\n",
        "y = (23,'string',True,3.14,['lista',123])\n",
        "print(y)\n",
        "#Diccionario\n",
        "z = {'nombre':'jorge', 'numeros':123,'lista':[1,3,'nombre'],'tupla':(1,5,'string')}\n",
        "print(z)"
      ]
    },
    {
      "cell_type": "markdown",
      "metadata": {
        "id": "WqijJy-4wbzY"
      },
      "source": [
        "# Operadores"
      ]
    },
    {
      "cell_type": "markdown",
      "metadata": {
        "id": "fArm64_B0lCi"
      },
      "source": [
        "# Operadores básicos\n",
        "Como en cualquier lenguaje moderno, podemos hacer operaciones matemáticas como adición, sustracción, multiplicación y división.\n",
        "\n",
        "Los operadores +, -, * y / sirven para manipular números o variables que contengan números y realizar cálculos desde Python.\n",
        "\n",
        "# Usando operadores básicos\n",
        "Podemos crear una variable para guardar el resultado de una suma, multiplicación y división:\n",
        "\n",
        "numero_final = 1 + 2 * 3 / 4 \n",
        "print(numero_final)\n",
        "\n",
        "También podemos hacer adición de cadenas de caracteres:\n",
        "\n",
        "sapere_aude = \"sapere\" + \" \" + \"aude\"\n",
        "print(sapere_aude)\n"
      ]
    },
    {
      "cell_type": "markdown",
      "metadata": {
        "id": "khCfSYGN-QMG"
      },
      "source": [
        "### Operadores aritméticos\n",
        "\n",
        "\n",
        "|Operator| Name \t\n",
        "| -----| ---\n",
        "a + b\t| Suma\n",
        "a - b\t| Resta\n",
        "a * b\t| Multiplicación\n",
        "a / b\t| Division\t\n",
        "a // b | Division entera\n",
        "a % b | Módulo\t\n",
        "a ** b | Exponenciación\n",
        "-a | Negación\n",
        " +a | Unary \n",
        " @ | Producto de matrices\n",
        "\n"
      ]
    },
    {
      "cell_type": "code",
      "execution_count": 6,
      "metadata": {
        "id": "knXxLixZ_ebT"
      },
      "outputs": [],
      "source": [
        "#Definimos los valores de a y b pueden tomar cualquier valor entero o flotante\n",
        "a = float(input(\"Valor de a: \")) #Por ejemplo 5\n",
        "b = float(input(\"Valor de b: \")) #Por ejemplo 12.7"
      ]
    },
    {
      "cell_type": "code",
      "execution_count": 7,
      "metadata": {
        "id": "_AMAsKwLYo2J"
      },
      "outputs": [],
      "source": [
        "#Suma\n",
        "suma = a+b #17.7\n",
        "#Resta\n",
        "resta = a+b\n",
        "#Multiplicacion\n",
        "multi = a*b\n",
        "#Division\n",
        "div = a/b\n",
        "#Division entera\n",
        "div_ent = a//b\n",
        "#Modulo\n",
        "mod = a%b"
      ]
    },
    {
      "cell_type": "code",
      "execution_count": 8,
      "metadata": {
        "id": "OOxYHqq_A1i_"
      },
      "outputs": [
        {
          "name": "stdout",
          "output_type": "stream",
          "text": [
            "17.7 \n",
            "\n"
          ]
        }
      ],
      "source": [
        "print(suma,\"\\n\")\n",
        "# Para imprimir los demas resultados solo basta con cambiar la variable en print o declarar mas lineas de impresion"
      ]
    },
    {
      "cell_type": "markdown",
      "metadata": {
        "id": "7uLXONgE-Uxf"
      },
      "source": [
        "### Operaciones bit a bit\n",
        "\n",
        "|Operator\t|Name\t\n",
        "| --- | --- |\n",
        "|a & b\t|Bitwise AND\t\n",
        "|a \\| b\t|Bitwise OR\t\n",
        "|a ^ b\t|Bitwise XOR\t\n",
        "|a << b\t|Bit shift left\t\n",
        "|a >> b\t|Bit shift right\t\n",
        "|~a\t|Bitwise NOT\t\n",
        "\n",
        "Las operaciones a bit son un poco diferentes , si bien se puede tomar un numero entero Python automaticamente trabajara con su valor en binario bit por bit.\n",
        "\n",
        "Ejemplo\n",
        "\n",
        "a = 5 en binario a 4 bits 0101\n",
        "\n",
        "b = 3 en binario a 4 bits 0011\n"
      ]
    },
    {
      "cell_type": "code",
      "execution_count": 5,
      "metadata": {
        "id": "QPKl-v_E-Oh_"
      },
      "outputs": [
        {
          "name": "stdout",
          "output_type": "stream",
          "text": [
            "1\n"
          ]
        }
      ],
      "source": [
        "a = 5 \n",
        "b = 3\n",
        "\n",
        "# Operacion AND solo si hay dos 1 en la operacion regresa 1\n",
        "# 0101\n",
        "# 0011\n",
        "# _________\n",
        "# 0001\n",
        "\n",
        "print(a&b)\n"
      ]
    },
    {
      "cell_type": "code",
      "execution_count": 7,
      "metadata": {
        "id": "BM1kmSdCZESH"
      },
      "outputs": [
        {
          "name": "stdout",
          "output_type": "stream",
          "text": [
            "7\n"
          ]
        }
      ],
      "source": [
        "# Operacion OR solo si hay dos 0 en la operacion regresa 0\n",
        "# 0101\n",
        "# 0011\n",
        "# _________\n",
        "# 0111\n",
        "print(a|b)"
      ]
    },
    {
      "cell_type": "code",
      "execution_count": 8,
      "metadata": {
        "id": "wCVc0HalZK6w"
      },
      "outputs": [
        {
          "name": "stdout",
          "output_type": "stream",
          "text": [
            "6\n"
          ]
        }
      ],
      "source": [
        "# Operacion XOR solo si hay dos 0 o dos 1 en la operacion regresa 0\n",
        "# 0101\n",
        "# 0011\n",
        "# _________\n",
        "# 0110\n",
        "print(a^b)"
      ]
    },
    {
      "cell_type": "markdown",
      "metadata": {
        "id": "Pjx_unYGAXT0"
      },
      "source": [
        "### Operaciones de asignación\n",
        "\n",
        "| | | | |\n",
        "| --- | --- | --- | --- |\n",
        "|a += b|\ta -= b|\ta *= b\t|a /= b|\n",
        "|a //= b|\ta %= b|\ta **= b|\ta &= b|\n",
        "|a \\|= b|\ta ^= b|\ta <<= b\t|a >>= b|"
      ]
    },
    {
      "cell_type": "code",
      "execution_count": 12,
      "metadata": {
        "id": "SfC5p3DdZZ_v"
      },
      "outputs": [
        {
          "name": "stdout",
          "output_type": "stream",
          "text": [
            "10\n"
          ]
        }
      ],
      "source": [
        "a = 3\n",
        "b = 7\n",
        "\n",
        "\n",
        "a += b\n",
        "# Esto es lo mismo que a = a+b\n",
        "print(a)"
      ]
    },
    {
      "cell_type": "code",
      "execution_count": 14,
      "metadata": {
        "id": "xn8It8mCZc6T"
      },
      "outputs": [
        {
          "name": "stdout",
          "output_type": "stream",
          "text": [
            "-4\n"
          ]
        }
      ],
      "source": [
        "a = 3\n",
        "b = 7\n",
        "\n",
        "a -= b\n",
        "# Esto es lo mismo que a = a-b\n",
        "print(a)"
      ]
    },
    {
      "cell_type": "code",
      "execution_count": 15,
      "metadata": {
        "id": "_cBCmhMqA2HQ"
      },
      "outputs": [
        {
          "name": "stdout",
          "output_type": "stream",
          "text": [
            "21\n"
          ]
        }
      ],
      "source": [
        "a = 3\n",
        "b = 7\n",
        "\n",
        "a *= b\n",
        "# Esto es lo mismo que a = a*b\n",
        "print(a)"
      ]
    },
    {
      "cell_type": "markdown",
      "metadata": {
        "id": "-7NF3WOxA1_U"
      },
      "source": [
        "### Operadores de comparación\n",
        "\n",
        "| | |\n",
        "|---|---|\n",
        "|a == b| a != b|\n",
        "|a < b  | a > b\n",
        "|a <= b |\ta >= b\n",
        "\n",
        "Estos operadores regresaran un valor True o False en su resultado"
      ]
    },
    {
      "cell_type": "code",
      "execution_count": 16,
      "metadata": {
        "id": "1G5pON9oZps5"
      },
      "outputs": [
        {
          "data": {
            "text/plain": [
              "False"
            ]
          },
          "execution_count": 16,
          "metadata": {},
          "output_type": "execute_result"
        }
      ],
      "source": [
        "a = 6\n",
        "b = 2\n",
        "\n",
        "# Si e valor es igual regresara True\n",
        "a == b"
      ]
    },
    {
      "cell_type": "code",
      "execution_count": 17,
      "metadata": {
        "id": "3cjK2LH5Z01L"
      },
      "outputs": [
        {
          "data": {
            "text/plain": [
              "True"
            ]
          },
          "execution_count": 17,
          "metadata": {},
          "output_type": "execute_result"
        }
      ],
      "source": [
        "# Si e valor es diferente regresara True\n",
        "a != b"
      ]
    },
    {
      "cell_type": "code",
      "execution_count": 18,
      "metadata": {
        "id": "YZ8cJJ-NA2qk"
      },
      "outputs": [
        {
          "data": {
            "text/plain": [
              "True"
            ]
          },
          "execution_count": 18,
          "metadata": {},
          "output_type": "execute_result"
        }
      ],
      "source": [
        "# Si e valor es mayor o igual regresara True\n",
        "a >= b"
      ]
    },
    {
      "cell_type": "markdown",
      "metadata": {
        "id": "26BWEl-LBlRB"
      },
      "source": [
        "### Operaciones Booleanas\n",
        "\n",
        "| | | |\n",
        "| --- | --- | --- |\n",
        "|and | or | not|\n",
        "\n",
        "Al igual que las comparaciones estas operaciones regresaran valores False or True"
      ]
    },
    {
      "cell_type": "code",
      "execution_count": 23,
      "metadata": {
        "id": "t4C1ZPDMaG07"
      },
      "outputs": [
        {
          "data": {
            "text/plain": [
              "True"
            ]
          },
          "execution_count": 23,
          "metadata": {},
          "output_type": "execute_result"
        }
      ],
      "source": [
        "a = 5\n",
        "b = 12\n",
        "\n",
        "#Si a y b son mayores que 2 regresara True\n",
        "a and b > 2"
      ]
    },
    {
      "cell_type": "code",
      "execution_count": 29,
      "metadata": {
        "id": "Hk1-lQAeaRpK"
      },
      "outputs": [
        {
          "name": "stdout",
          "output_type": "stream",
          "text": [
            "A o B son mayores que 10\n"
          ]
        }
      ],
      "source": [
        "a = 5\n",
        "b = 12\n",
        "\n",
        "#Si a o b son mayores que 10 entrara al ciclo\n",
        "if a or b >= 10:\n",
        "    print(\"A o B son mayores que 10\")\n",
        "else :\n",
        "    print(\"Ninguno de los valores son mayores que 10\")"
      ]
    },
    {
      "cell_type": "code",
      "execution_count": 36,
      "metadata": {
        "id": "i2os8jEtA3NZ"
      },
      "outputs": [
        {
          "data": {
            "text/plain": [
              "True"
            ]
          },
          "execution_count": 36,
          "metadata": {},
          "output_type": "execute_result"
        }
      ],
      "source": [
        "a = False\n",
        "\n",
        "\n",
        "#Invierte los valores Verdadero y Falso de una variable\n",
        "not(a)"
      ]
    },
    {
      "cell_type": "markdown",
      "metadata": {
        "id": "iQV4tGokCgOJ"
      },
      "source": [
        "### Identity and Membership Operators\n",
        "\n",
        "> Bloque con sangría\n",
        "\n",
        "\n",
        "\n",
        "| | |\n",
        "| - | -|\n",
        "|a is b|\tTrue if a and b are identical objects\n",
        "a is not b|\tTrue if a and b are not identical objects\n",
        "a in b |\tTrue if a is a member of b\n",
        "a not in b\t|True if a is not a member of b"
      ]
    },
    {
      "cell_type": "code",
      "execution_count": 37,
      "metadata": {
        "id": "i6oaKyE2aanR"
      },
      "outputs": [
        {
          "data": {
            "text/plain": [
              "False"
            ]
          },
          "execution_count": 37,
          "metadata": {},
          "output_type": "execute_result"
        }
      ],
      "source": [
        "a = 5\n",
        "b = 3\n",
        "a is b"
      ]
    },
    {
      "cell_type": "code",
      "execution_count": 38,
      "metadata": {
        "id": "Zk0Lri6CajcW"
      },
      "outputs": [
        {
          "data": {
            "text/plain": [
              "True"
            ]
          },
          "execution_count": 38,
          "metadata": {},
          "output_type": "execute_result"
        }
      ],
      "source": [
        "a is not b"
      ]
    },
    {
      "cell_type": "code",
      "execution_count": 40,
      "metadata": {
        "id": "KTfHicBJamSL"
      },
      "outputs": [
        {
          "data": {
            "text/plain": [
              "True"
            ]
          },
          "execution_count": 40,
          "metadata": {},
          "output_type": "execute_result"
        }
      ],
      "source": [
        "list = [1,2,3,4,5]\n",
        "a in list"
      ]
    },
    {
      "cell_type": "code",
      "execution_count": 42,
      "metadata": {
        "id": "fJRkth5Vaplv"
      },
      "outputs": [
        {
          "data": {
            "text/plain": [
              "False"
            ]
          },
          "execution_count": 42,
          "metadata": {},
          "output_type": "execute_result"
        }
      ],
      "source": [
        "list = [1,2,3,4,5]\n",
        "a not in list"
      ]
    },
    {
      "cell_type": "markdown",
      "metadata": {
        "id": "60K_ktBRwshv"
      },
      "source": [
        "## Estructuras de datos incorporadas\n",
        "\n",
        "|Type Name| Example|\tDescription|\n",
        "|-|-|-|\n",
        "list|\t[1, 2, 3]\t|Ordered collection\n",
        "tuple|\t(1, 2, 3)|\tImmutable ordered collection\n",
        "dict|\t{'a':1, 'b':2, 'c':3}|\tUnordered (key,value) mapping (insertion ordered 3.7+)\n",
        "set\t|{1, 2, 3}|\tUnordered collection of unique values"
      ]
    },
    {
      "cell_type": "code",
      "execution_count": 43,
      "metadata": {
        "id": "6K5R3Y4uce19"
      },
      "outputs": [],
      "source": [
        "list = [1,2,3,4,5]\n",
        "print(type(list))"
      ]
    },
    {
      "cell_type": "code",
      "execution_count": null,
      "metadata": {
        "id": "fU80msD2cf0f"
      },
      "outputs": [],
      "source": [
        "tuple = (1,2,3,4)\n",
        "print(type(tuple))"
      ]
    },
    {
      "cell_type": "code",
      "execution_count": 48,
      "metadata": {
        "id": "7_agAnsZcmEa"
      },
      "outputs": [
        {
          "name": "stdout",
          "output_type": "stream",
          "text": [
            "cadena\n"
          ]
        }
      ],
      "source": [
        "dict = {'a':1, 'b':\"cadena\", 'c':4.5}\n",
        "print(dict['b'])"
      ]
    },
    {
      "cell_type": "code",
      "execution_count": 50,
      "metadata": {
        "id": "FaMdhj6ecp9Q"
      },
      "outputs": [
        {
          "name": "stdout",
          "output_type": "stream",
          "text": [
            "{1, 2, 3}\n"
          ]
        }
      ],
      "source": [
        "set = {1,2,3}\n",
        "print(set)"
      ]
    },
    {
      "cell_type": "markdown",
      "metadata": {
        "id": "MvDKNgH8IeHq"
      },
      "source": [
        "#### List comprehension"
      ]
    },
    {
      "cell_type": "markdown",
      "metadata": {
        "id": "VkaqP4srrGQH"
      },
      "source": [
        "Métodos útiles para listas:\n",
        "- append\n",
        "- count\n",
        "- index\n",
        "- sort\n",
        "- reverse"
      ]
    },
    {
      "cell_type": "code",
      "execution_count": 58,
      "metadata": {},
      "outputs": [
        {
          "name": "stdout",
          "output_type": "stream",
          "text": [
            "['apple', 'orange', 'banana', ['melon', 'kiwi']]\n"
          ]
        }
      ],
      "source": [
        "#Metodo add inserta un elemento al final de la lista o inclusive nuevas listas\n",
        "list1 = ['apple','orange']\n",
        "new_fruits = ['melon','kiwi']\n",
        "\n",
        "list1.append('banana')\n",
        "list1.append(new_fruits)\n",
        "\n",
        "\n",
        "\n",
        "print(list1)"
      ]
    },
    {
      "cell_type": "code",
      "execution_count": 63,
      "metadata": {},
      "outputs": [
        {
          "data": {
            "text/plain": [
              "3"
            ]
          },
          "execution_count": 63,
          "metadata": {},
          "output_type": "execute_result"
        }
      ],
      "source": [
        "#Count cuenta el numero de elementos repetidos dentro de una lista\n",
        "list2 = [1,2,3,4,5,2,2]\n",
        "\n",
        "\n",
        "list2.count(2)"
      ]
    },
    {
      "cell_type": "code",
      "execution_count": 66,
      "metadata": {},
      "outputs": [
        {
          "data": {
            "text/plain": [
              "3"
            ]
          },
          "execution_count": 66,
          "metadata": {},
          "output_type": "execute_result"
        }
      ],
      "source": [
        "#index regresa el indice de un valor dentro de la lista en caso de no existir genera error\n",
        "list3 = [1,2,3,4,5,6,7]\n",
        "\n",
        "list3.index(4)"
      ]
    },
    {
      "cell_type": "code",
      "execution_count": 88,
      "metadata": {},
      "outputs": [
        {
          "name": "stdout",
          "output_type": "stream",
          "text": [
            "[2, 4, 5, 10, 32]\n",
            "[32, 10, 5, 4, 2]\n"
          ]
        }
      ],
      "source": [
        "#sort y reverse ordenan los elementos en orden ascendente o descendente de acuerdo al argumento asignado\n",
        "list = [10,2,32,4,5]\n",
        "\n",
        "#orden menor a mayor\n",
        "list.sort()\n",
        "print(list)\n",
        "\n",
        "#orden mayor a menor\n",
        "list.reverse()\n",
        "print(list)\n",
        "\n",
        "\n"
      ]
    },
    {
      "cell_type": "markdown",
      "metadata": {
        "id": "_eS-uI48OXig"
      },
      "source": [
        "### Tuplas"
      ]
    },
    {
      "cell_type": "code",
      "execution_count": 1,
      "metadata": {
        "id": "5p_tamwtc2Tv"
      },
      "outputs": [
        {
          "name": "stdout",
          "output_type": "stream",
          "text": [
            "(1, 2, 3, 4, 5)\n"
          ]
        }
      ],
      "source": [
        "#Las tuplas tienen similitud con las listas con la gran excepcion que una lista es inmutable\n",
        "#una vez declarados sus elementos estos no pueden cambiar\n",
        "\n",
        "tupla = (1,2,3,4,5)\n",
        "\n",
        "print(tupla)"
      ]
    },
    {
      "cell_type": "code",
      "execution_count": 2,
      "metadata": {
        "id": "Bk56eOzRc7Uf"
      },
      "outputs": [
        {
          "ename": "AttributeError",
          "evalue": "'tuple' object has no attribute 'append'",
          "output_type": "error",
          "traceback": [
            "\u001b[1;31m---------------------------------------------------------------------------\u001b[0m",
            "\u001b[1;31mAttributeError\u001b[0m                            Traceback (most recent call last)",
            "\u001b[1;32mc:\\Users\\Jorge Hdz\\Desktop\\intropython\\notebooks\\IntroProgramacionPython.ipynb Cell 67'\u001b[0m in \u001b[0;36m<cell line: 3>\u001b[1;34m()\u001b[0m\n\u001b[0;32m      <a href='vscode-notebook-cell:/c%3A/Users/Jorge%20Hdz/Desktop/intropython/notebooks/IntroProgramacionPython.ipynb#ch0000066?line=0'>1</a>\u001b[0m \u001b[39m# Al contrario que las listas estas no pueden alterarse con gran facilidad\u001b[39;00m\n\u001b[1;32m----> <a href='vscode-notebook-cell:/c%3A/Users/Jorge%20Hdz/Desktop/intropython/notebooks/IntroProgramacionPython.ipynb#ch0000066?line=2'>3</a>\u001b[0m tupla\u001b[39m.\u001b[39;49mappend(\u001b[39m2\u001b[39m)\n",
            "\u001b[1;31mAttributeError\u001b[0m: 'tuple' object has no attribute 'append'"
          ]
        }
      ],
      "source": [
        "# Al contrario que las listas estas no pueden alterarse con gran facilidad\n",
        "\n",
        "tupla.append(2)\n",
        "\n",
        "# Esto generara error ya que una tupla no contiene metodos como append entre otros"
      ]
    },
    {
      "cell_type": "markdown",
      "metadata": {
        "id": "sT48IcS3OERZ"
      },
      "source": [
        "### Diccionarios"
      ]
    },
    {
      "cell_type": "code",
      "execution_count": 3,
      "metadata": {
        "id": "srUvzeH6dtXx"
      },
      "outputs": [
        {
          "name": "stdout",
          "output_type": "stream",
          "text": [
            "{'a': 1, 'b': 'palabra', 'c': 24.3}\n"
          ]
        }
      ],
      "source": [
        "# Un diccionario es una variacion con clave:valor la cual puede cambiar de acuerdo al usuario\n",
        "\n",
        "diccionario = {'a':1,'b':'palabra','c':24.3}\n",
        "\n",
        "print(diccionario)\n"
      ]
    },
    {
      "cell_type": "code",
      "execution_count": 8,
      "metadata": {
        "id": "movyR5a8eRH1"
      },
      "outputs": [
        {
          "data": {
            "text/plain": [
              "dict_values([1, 'palabra', 24.3])"
            ]
          },
          "execution_count": 8,
          "metadata": {},
          "output_type": "execute_result"
        }
      ],
      "source": [
        "# Al igual que las listas los diccionarios tienen sus metodos o funciones\n",
        "\n",
        "# Keys muestra las llaves contenidas o claves\n",
        "diccionario.keys()\n",
        "\n",
        "# Values los valores dentro del diccionario\n",
        "diccionario.values()"
      ]
    },
    {
      "cell_type": "code",
      "execution_count": 16,
      "metadata": {},
      "outputs": [
        {
          "name": "stdout",
          "output_type": "stream",
          "text": [
            "{'a': 12321, 'b': 'palabra', 'c': 24.3}\n"
          ]
        }
      ],
      "source": [
        "# Otro factor a tomar en cuenta es que los diccionarios pueden ser editables\n",
        "\n",
        "new_key = {'a':12321}\n",
        "\n",
        "diccionario.update(new_key)\n",
        "\n",
        "print(diccionario)"
      ]
    },
    {
      "cell_type": "markdown",
      "metadata": {
        "id": "Fu-9K1Xcwyra"
      },
      "source": [
        "## Flujo de control"
      ]
    },
    {
      "cell_type": "markdown",
      "metadata": {
        "id": "t_8nzXjT1Jvf"
      },
      "source": [
        "Python soporta las condiciones lógicas comunes en matemáticas:\n",
        "\n",
        "Igualdad: \t\t\t\t\tmanzana == banana\n",
        "\n",
        "Desigualdad: \t\t\t\tmanzana != banana\n",
        "\n",
        "Menor que: \t\t\t\t\tmanzana < banana\n",
        "\n",
        "Menor o igual a que: \t\tmanzana <= banana\n",
        "\n",
        "Mayor que: \t\t\t\t\tmanzana > banana\n",
        "\n",
        "Mayor o igual que: \t\t\tmanzana >= banana"
      ]
    },
    {
      "cell_type": "markdown",
      "metadata": {
        "id": "UvvMSfrC1Z25"
      },
      "source": [
        "Esas condicionales se pueden utilizar de distintas maneras, de manera muy frecuente en las sentencias if y en los ciclos.\n",
        "\n",
        "Python depende de la identación para definir la ejecución de una sentencia condicional como if. Otros lenguajes de programación utilizan las llaves (“{“ y ”}”, respectivamente) para este propósito."
      ]
    },
    {
      "cell_type": "markdown",
      "metadata": {
        "id": "_61maWoEOceN"
      },
      "source": [
        "### Conditional Statements: if-elif-else"
      ]
    },
    {
      "cell_type": "markdown",
      "metadata": {
        "id": "d5VAzApa3ahN"
      },
      "source": [
        "Podemos hace un condicionamiento doble con if y else, elif de la siguiente manera:\n",
        "a = 200\n",
        "b = 33\n",
        "if b > a:\n",
        "   > print(\"b es más grande que a\")\n",
        "\n",
        "elif b=a:\n",
        "   > print(“b es exactamente igual a a”)\n",
        "   \n",
        "else:\n",
        "   > print(\"b no es más grande que a\")\n",
        "\n",
        "O un condicionamiento simple en una sóla línea:\n",
        "\n",
        "if a > b: print(\"a es mayor que b\")\n"
      ]
    },
    {
      "cell_type": "markdown",
      "metadata": {
        "id": "t527s_QS4FDg"
      },
      "source": [
        "# Condicionales: and y or\n",
        "Los operadores booleanos and y or permiten expresiones booleanas complejas como:"
      ]
    },
    {
      "cell_type": "code",
      "execution_count": null,
      "metadata": {
        "id": "A6EO_GuZ4Lbj"
      },
      "outputs": [],
      "source": []
    },
    {
      "cell_type": "markdown",
      "metadata": {
        "id": "PaeIrmE44Wvo"
      },
      "source": [
        "# Condicionales: in y is\n",
        "Los operadores booleanos in y is permiten expresiones booleanas complejas como:"
      ]
    },
    {
      "cell_type": "code",
      "execution_count": null,
      "metadata": {
        "id": "KdwJoQoK4YHw"
      },
      "outputs": [],
      "source": []
    },
    {
      "cell_type": "code",
      "execution_count": null,
      "metadata": {
        "id": "bmiuBUMq49AA"
      },
      "outputs": [],
      "source": [
        "# is revisa si se trata del mismo objeto\n"
      ]
    },
    {
      "cell_type": "markdown",
      "metadata": {
        "id": "itEziK8C5coc"
      },
      "source": [
        "# Ciclos\n",
        "\n",
        "Los ciclos sirven para cursar sobre una secuencia (como una lista, un diccionario o una cadena de caracteres).\n",
        "\n",
        "El ciclo for, por ejemplo, permite ejecutar una conjunto de instrucciones, una para cada elemento en la lista, diccionario o cadena de caracteres que pretendemos leer."
      ]
    },
    {
      "cell_type": "markdown",
      "metadata": {
        "id": "1C5otK3aOcx5"
      },
      "source": [
        "## for loops"
      ]
    },
    {
      "cell_type": "markdown",
      "metadata": {
        "id": "3JSxKnoh5kcS"
      },
      "source": [
        "# Declarando un ciclo for\n",
        "Podemos crear una lista de variables con números primos dentro"
      ]
    },
    {
      "cell_type": "code",
      "execution_count": null,
      "metadata": {
        "id": "b7ZmclEElRA2"
      },
      "outputs": [],
      "source": []
    },
    {
      "cell_type": "code",
      "execution_count": null,
      "metadata": {
        "id": "R-C_5i7vklcr"
      },
      "outputs": [],
      "source": []
    },
    {
      "cell_type": "code",
      "execution_count": null,
      "metadata": {
        "id": "gGztWcX9k0dc"
      },
      "outputs": [],
      "source": []
    },
    {
      "cell_type": "markdown",
      "metadata": {
        "id": "0SQqMtB9lZYA"
      },
      "source": [
        "### while loops"
      ]
    },
    {
      "cell_type": "code",
      "execution_count": null,
      "metadata": {
        "id": "vr0FbT97laxM"
      },
      "outputs": [],
      "source": []
    },
    {
      "cell_type": "markdown",
      "metadata": {
        "id": "MwalUZiPlenr"
      },
      "source": [
        "### break and continue: Fine-Tuning Your Loops\n",
        "\n",
        "- `break` se sale del bucle por completo\n",
        "- `continue` omite el resto del ciclo actual y pasa a la siguiente iteración "
      ]
    },
    {
      "cell_type": "code",
      "execution_count": null,
      "metadata": {
        "id": "0RUUZQLXlu5y"
      },
      "outputs": [],
      "source": []
    },
    {
      "cell_type": "code",
      "execution_count": null,
      "metadata": {
        "id": "aRWUGESvlujS"
      },
      "outputs": [],
      "source": []
    },
    {
      "cell_type": "markdown",
      "metadata": {
        "id": "vtjA_wmKmKdm"
      },
      "source": [
        "### Loops with an else Block"
      ]
    },
    {
      "cell_type": "code",
      "execution_count": null,
      "metadata": {
        "id": "-bbv-WJvmOAY"
      },
      "outputs": [],
      "source": []
    },
    {
      "cell_type": "markdown",
      "metadata": {
        "id": "l07zEnZew17m"
      },
      "source": [
        "## Funciones"
      ]
    },
    {
      "cell_type": "markdown",
      "metadata": {
        "id": "72TKXLd7maKb"
      },
      "source": [
        "### Key-word arguments"
      ]
    },
    {
      "cell_type": "code",
      "execution_count": null,
      "metadata": {
        "id": "JXttHZfOmcw4"
      },
      "outputs": [],
      "source": []
    },
    {
      "cell_type": "code",
      "execution_count": null,
      "metadata": {
        "id": "NJT0eKLannB7"
      },
      "outputs": [],
      "source": []
    },
    {
      "cell_type": "markdown",
      "metadata": {
        "id": "6h4P48jLmtJ8"
      },
      "source": [
        "### Defining Functions"
      ]
    },
    {
      "cell_type": "markdown",
      "metadata": {
        "id": "KBv28tsi6CgD"
      },
      "source": [
        "Las funciones son una manera conveniente de dividir el código en bloques útiles, permitiendo órden, haciéndolo más leíble, reusable y nos permite ser más productivos.\n",
        "\n",
        "Las funciones son una manera muy valiosa de definir interfaces de manera que los y las programadoras pueden compartir su código."
      ]
    },
    {
      "cell_type": "markdown",
      "metadata": {
        "id": "Dh4rCYsG6OYg"
      },
      "source": [
        "### Usamos la palabra def para declarar nuestra función:"
      ]
    },
    {
      "cell_type": "code",
      "execution_count": null,
      "metadata": {
        "id": "f8dxrXiH6RDI"
      },
      "outputs": [],
      "source": [
        "\n"
      ]
    },
    {
      "cell_type": "markdown",
      "metadata": {
        "id": "Q2CXVZ5U6VIc"
      },
      "source": [
        "O podemos crear una función con argumentos:\n"
      ]
    },
    {
      "cell_type": "code",
      "execution_count": null,
      "metadata": {
        "id": "TmQOIgFz6Vbz"
      },
      "outputs": [],
      "source": []
    },
    {
      "cell_type": "markdown",
      "metadata": {
        "id": "SIRGOG_f6r-X"
      },
      "source": [
        "### Podemos crear funciones que regrese valores\n",
        "\n",
        "### Y podemos hacer uso de la función así y guardar el resultado de la ejecución del método en la variable resultado"
      ]
    },
    {
      "cell_type": "code",
      "execution_count": null,
      "metadata": {
        "id": "u2OS4BHgmwzW"
      },
      "outputs": [],
      "source": []
    },
    {
      "cell_type": "code",
      "execution_count": null,
      "metadata": {
        "id": "LwNvsUjYoY9z"
      },
      "outputs": [],
      "source": []
    },
    {
      "cell_type": "code",
      "execution_count": null,
      "metadata": {
        "id": "vB-nINIhm6EU"
      },
      "outputs": [],
      "source": []
    },
    {
      "cell_type": "markdown",
      "metadata": {
        "id": "PKDN3o0XmtE5"
      },
      "source": [
        "### DValores default para las funciones"
      ]
    },
    {
      "cell_type": "code",
      "execution_count": null,
      "metadata": {
        "id": "gqsPGSNmm-d2"
      },
      "outputs": [],
      "source": []
    },
    {
      "cell_type": "code",
      "execution_count": null,
      "metadata": {
        "id": "AssngshxpIuK"
      },
      "outputs": [],
      "source": []
    },
    {
      "cell_type": "markdown",
      "metadata": {
        "id": "2rGTAXA6nE1z"
      },
      "source": [
        "### *args and **kwargs: Argumentos Flexibles"
      ]
    },
    {
      "cell_type": "markdown",
      "metadata": {
        "id": "yPfj_v3V--q4"
      },
      "source": [
        "El principal uso de *args y **kwargs es en la definición de funciones. Ambos permiten pasar un número variable de argumentos a una función, por lo que si quieres definir una función cuyo número de parámetros de entrada puede ser variable, considera el uso de *args o **kwargs como una opción.\n",
        "\n",
        "**kwargs permite pasar argumentos de longitud variable asociados con un nombre o key a una función. Deberías usar **kwargs si quieres manejar argumentos con nombre como entrada a una función."
      ]
    },
    {
      "cell_type": "code",
      "execution_count": null,
      "metadata": {
        "id": "Co0QS7x_paYD"
      },
      "outputs": [],
      "source": []
    },
    {
      "cell_type": "code",
      "execution_count": null,
      "metadata": {
        "id": "w-trQukNnFwR"
      },
      "outputs": [],
      "source": []
    },
    {
      "cell_type": "code",
      "execution_count": null,
      "metadata": {
        "id": "W_j78Myxp1ck"
      },
      "outputs": [],
      "source": []
    },
    {
      "cell_type": "markdown",
      "metadata": {
        "id": "5jrMM8Wznc6E"
      },
      "source": [
        "### Funciones lambda"
      ]
    },
    {
      "cell_type": "code",
      "execution_count": null,
      "metadata": {
        "id": "RJRIcqWMntw3"
      },
      "outputs": [],
      "source": []
    },
    {
      "cell_type": "code",
      "execution_count": null,
      "metadata": {
        "id": "wF-C3eO6qcwu"
      },
      "outputs": [],
      "source": []
    },
    {
      "cell_type": "code",
      "execution_count": null,
      "metadata": {
        "id": "x0l3_Xj5n0Lh"
      },
      "outputs": [],
      "source": []
    },
    {
      "cell_type": "code",
      "execution_count": null,
      "metadata": {
        "id": "cRhKsKwh_7_s"
      },
      "outputs": [],
      "source": []
    },
    {
      "cell_type": "code",
      "execution_count": null,
      "metadata": {
        "id": "qYjVjWX1qsdp"
      },
      "outputs": [],
      "source": []
    },
    {
      "cell_type": "code",
      "execution_count": null,
      "metadata": {
        "id": "LsVF-5j0q277"
      },
      "outputs": [],
      "source": []
    },
    {
      "cell_type": "markdown",
      "metadata": {
        "id": "h4_PUhQjDET0"
      },
      "source": [
        "## Buenas prácticas para escribir código Python\n",
        "\n",
        "Las convenciones para escribir código Python se describen en [The PEP 8 Style Guide for Python Code](https://www.python.org/dev/peps/pep-0008/), entre las que encontramos,\n",
        "\n",
        "- Longitud máxima de línea: 79 caracteres.\n",
        "- 4 espacios por nivel de sangría\n",
        "- 'Hanging indentation' para contenido dentro de brackets\n",
        "- Espacio alrededor de operadores\n",
        "- Una expresión po línea"
      ]
    },
    {
      "cell_type": "code",
      "execution_count": null,
      "metadata": {
        "id": "TLfQPhZuDor1"
      },
      "outputs": [],
      "source": []
    }
  ],
  "metadata": {
    "colab": {
      "collapsed_sections": [
        "V7wzI38DKsxk",
        "5UVwrIGcwTzy",
        "-7NF3WOxA1_U"
      ],
      "name": "IntroProgramacionPython.ipynb",
      "provenance": []
    },
    "kernelspec": {
      "display_name": "Python 3",
      "language": "python",
      "name": "python3"
    },
    "language_info": {
      "codemirror_mode": {
        "name": "ipython",
        "version": 3
      },
      "file_extension": ".py",
      "mimetype": "text/x-python",
      "name": "python",
      "nbconvert_exporter": "python",
      "pygments_lexer": "ipython3",
      "version": "3.9.12"
    }
  },
  "nbformat": 4,
  "nbformat_minor": 0
}
