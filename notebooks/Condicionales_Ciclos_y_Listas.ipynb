{
  "cells": [
    {
      "cell_type": "markdown",
      "metadata": {
        "id": "yqFupdUyzbFK"
      },
      "source": [
        "Esta es la forma de definir una lista:\n"
      ]
    },
    {
      "cell_type": "code",
      "execution_count": 12,
      "metadata": {
        "id": "tMdOuwz8xeSy"
      },
      "outputs": [],
      "source": [
        "personas = [\"Jorge\",\"Dulce\",\"Manuel\", \"Juan\"]"
      ]
    },
    {
      "cell_type": "code",
      "execution_count": 13,
      "metadata": {
        "colab": {
          "base_uri": "https://localhost:8080/"
        },
        "id": "eHPzeQkYzhbV",
        "outputId": "54eeb3ea-4d85-4204-87ba-864154f12d7d"
      },
      "outputs": [
        {
          "name": "stdout",
          "output_type": "stream",
          "text": [
            "['Jorge', 'Dulce', 'Manuel', 'Juan']\n"
          ]
        }
      ],
      "source": [
        "print(personas)"
      ]
    },
    {
      "cell_type": "markdown",
      "metadata": {},
      "source": [
        "Determinar la longitud de una lista"
      ]
    },
    {
      "cell_type": "code",
      "execution_count": 14,
      "metadata": {
        "colab": {
          "base_uri": "https://localhost:8080/"
        },
        "id": "JGWwvvyJzhIH",
        "outputId": "ed3db0f2-ebab-4061-b3d6-774231df3969"
      },
      "outputs": [
        {
          "data": {
            "text/plain": [
              "4"
            ]
          },
          "execution_count": 14,
          "metadata": {},
          "output_type": "execute_result"
        }
      ],
      "source": [
        "len(personas)"
      ]
    },
    {
      "cell_type": "markdown",
      "metadata": {},
      "source": [
        "Ordenar elementos de una lista y remover el ultimo elemento"
      ]
    },
    {
      "cell_type": "code",
      "execution_count": 15,
      "metadata": {
        "colab": {
          "base_uri": "https://localhost:8080/"
        },
        "id": "YU9OS1V41KUh",
        "outputId": "5122eaa8-e10d-4d2f-d169-fc01d597b99d"
      },
      "outputs": [
        {
          "name": "stdout",
          "output_type": "stream",
          "text": [
            "['Dulce', 'Jorge', 'Juan', 'Manuel']\n",
            "Manuel\n"
          ]
        }
      ],
      "source": [
        "personas.sort()\n",
        "print(personas)\n",
        "\n",
        "print(personas.pop())"
      ]
    },
    {
      "cell_type": "code",
      "execution_count": 16,
      "metadata": {
        "colab": {
          "base_uri": "https://localhost:8080/"
        },
        "id": "hVN4bJLe2taq",
        "outputId": "5ab34374-56af-42f3-99ef-94f05a03cb15"
      },
      "outputs": [
        {
          "name": "stdout",
          "output_type": "stream",
          "text": [
            "['Dulce', 'Jorge', 'Juan']\n"
          ]
        }
      ],
      "source": [
        "print(personas)"
      ]
    },
    {
      "cell_type": "markdown",
      "metadata": {},
      "source": [
        "Acceder a un elemento"
      ]
    },
    {
      "cell_type": "code",
      "execution_count": 18,
      "metadata": {
        "colab": {
          "base_uri": "https://localhost:8080/",
          "height": 35
        },
        "id": "e1s_AtuF2nBp",
        "outputId": "6faefc03-a788-4291-d4c4-4396112dd7ad"
      },
      "outputs": [
        {
          "data": {
            "text/plain": [
              "'Juan'"
            ]
          },
          "execution_count": 18,
          "metadata": {},
          "output_type": "execute_result"
        }
      ],
      "source": [
        "#personas[-1]\n",
        "#len(personas)\n",
        "#personas[3]\n",
        "#personas[len(personas)-1]\n",
        "\n",
        "longitud = len(personas)\n",
        "personas[longitud-1]"
      ]
    },
    {
      "cell_type": "markdown",
      "metadata": {
        "id": "pH5dn0l_4kcG"
      },
      "source": [
        "Condicionales"
      ]
    },
    {
      "cell_type": "code",
      "execution_count": 19,
      "metadata": {
        "colab": {
          "base_uri": "https://localhost:8080/"
        },
        "id": "JBgTgiH64kvz",
        "outputId": "fc642521-2dad-4e27-e109-5f3322347350"
      },
      "outputs": [
        {
          "data": {
            "text/plain": [
              "True"
            ]
          },
          "execution_count": 19,
          "metadata": {},
          "output_type": "execute_result"
        }
      ],
      "source": [
        "'manzana' != 'banana'"
      ]
    },
    {
      "cell_type": "code",
      "execution_count": 20,
      "metadata": {
        "colab": {
          "base_uri": "https://localhost:8080/"
        },
        "id": "hvl-hBjg49FN",
        "outputId": "828e1a6d-06c7-4821-b03b-f8e18342c967"
      },
      "outputs": [
        {
          "data": {
            "text/plain": [
              "True"
            ]
          },
          "execution_count": 20,
          "metadata": {},
          "output_type": "execute_result"
        }
      ],
      "source": [
        "'manzana' == 'manzana'"
      ]
    },
    {
      "cell_type": "code",
      "execution_count": 21,
      "metadata": {
        "colab": {
          "base_uri": "https://localhost:8080/"
        },
        "id": "bLKxbeRz5LZo",
        "outputId": "203556e8-ca27-45d4-f939-5886b8f0e826"
      },
      "outputs": [
        {
          "data": {
            "text/plain": [
              "True"
            ]
          },
          "execution_count": 21,
          "metadata": {},
          "output_type": "execute_result"
        }
      ],
      "source": [
        "'manzana' >= 'banana'"
      ]
    },
    {
      "cell_type": "code",
      "execution_count": 22,
      "metadata": {
        "colab": {
          "base_uri": "https://localhost:8080/"
        },
        "id": "x-CiI85B5X7S",
        "outputId": "6ff24792-8171-4858-b7fd-a0b66bf5221d"
      },
      "outputs": [
        {
          "data": {
            "text/plain": [
              "False"
            ]
          },
          "execution_count": 22,
          "metadata": {},
          "output_type": "execute_result"
        }
      ],
      "source": [
        "'manzana' <= 'banana'"
      ]
    },
    {
      "cell_type": "code",
      "execution_count": 23,
      "metadata": {
        "colab": {
          "base_uri": "https://localhost:8080/"
        },
        "id": "GJ-kpxJQ7O5k",
        "outputId": "ce3e169f-1b1a-4d18-fc62-b3cfa09be53e"
      },
      "outputs": [
        {
          "data": {
            "text/plain": [
              "True"
            ]
          },
          "execution_count": 23,
          "metadata": {},
          "output_type": "execute_result"
        }
      ],
      "source": [
        "'A'<'a'"
      ]
    },
    {
      "cell_type": "code",
      "execution_count": 24,
      "metadata": {
        "colab": {
          "base_uri": "https://localhost:8080/"
        },
        "id": "IS3SBkPf8Uip",
        "outputId": "7a62cf25-4e75-44af-a2b0-f589e5c94193"
      },
      "outputs": [
        {
          "name": "stdout",
          "output_type": "stream",
          "text": [
            "['Dulce', 'Jorge', 'Juan']\n"
          ]
        }
      ],
      "source": [
        "print(personas)"
      ]
    },
    {
      "cell_type": "markdown",
      "metadata": {},
      "source": [
        "Ciclos y condicionales con una lista"
      ]
    },
    {
      "cell_type": "code",
      "execution_count": 27,
      "metadata": {
        "colab": {
          "base_uri": "https://localhost:8080/"
        },
        "id": "Leqla80z8kBX",
        "outputId": "91c35b1a-8f41-4b29-f185-a0c1f3f55d38"
      },
      "outputs": [
        {
          "name": "stdout",
          "output_type": "stream",
          "text": [
            "3\n"
          ]
        }
      ],
      "source": [
        "\n",
        "longitud = len(personas)\n",
        "\n",
        "print(longitud)\n",
        "\n",
        "\n"
      ]
    },
    {
      "cell_type": "code",
      "execution_count": 28,
      "metadata": {},
      "outputs": [
        {
          "name": "stdout",
          "output_type": "stream",
          "text": [
            "1\n"
          ]
        }
      ],
      "source": [
        "## Caso en que no hay personas en la lista\n",
        "print('1')\n",
        "if(longitud == 0):\n",
        "  print(personas,'ya entren a clase')"
      ]
    },
    {
      "cell_type": "code",
      "execution_count": 30,
      "metadata": {},
      "outputs": [
        {
          "name": "stdout",
          "output_type": "stream",
          "text": [
            "2\n",
            "que bueno que hay personas\n"
          ]
        }
      ],
      "source": [
        "\n",
        "# 'else' siempre va con un if y es cuando el if o los ifelse anteriores no se cumplen\n",
        "# si (la condición se cumple) entonces: \n",
        "# if(condicion):\n",
        "# sino entonces: \n",
        "# else:\n",
        "\n",
        "print('2')\n",
        "\n",
        "if(longitud == 0):\n",
        "  print(personas,'ya entren a clase')\n",
        "else:\n",
        "  print('que bueno que hay personas')\n",
        "\n",
        "\n",
        "\n"
      ]
    },
    {
      "cell_type": "code",
      "execution_count": 31,
      "metadata": {},
      "outputs": [
        {
          "name": "stdout",
          "output_type": "stream",
          "text": [
            "3\n",
            "que bueno que llegaron\n"
          ]
        }
      ],
      "source": [
        "\n",
        "# 'else' siempre va con un if y es cuando el if o los ifelse anteriores no se cumplen\n",
        "# si (la condición se cumple) entonces: \n",
        "# if(condicion):\n",
        "# sino, si es (la otra condición) entonces: \n",
        "# elif():\n",
        "# sino entonces: \n",
        "# else:\n",
        "print('3')\n",
        "\n",
        "if(longitud == 0):\n",
        "  print(personas,'ya entren a clase')\n",
        "elif(longitud >= 4):\n",
        "  print(personas,'ustedes son los mejores')\n",
        "elif(longitud >= 8):\n",
        "  print(personas,'ustedes ya son demasiados pero son los mejores')\n",
        "else:\n",
        "  print('que bueno que llegaron')\n",
        "\n",
        "# and -> ambas condiciones deben ser verdad\n",
        "\n",
        "# or -> al menos una condición debe ser verdad\n"
      ]
    },
    {
      "cell_type": "code",
      "execution_count": 33,
      "metadata": {},
      "outputs": [
        {
          "name": "stdout",
          "output_type": "stream",
          "text": [
            "4\n",
            "que bueno que llegaron\n",
            "Jorge!!! Cuanto tiempo de no verte!\n"
          ]
        }
      ],
      "source": [
        "print('4')\n",
        "\n",
        "if(longitud == 0):\n",
        "  print(personas,'ya entren a clase')\n",
        "#       true    and    false   => falso en un and\n",
        "elif(longitud >= 4 and longitud < 8):\n",
        "  print(personas,'ustedes son los mejores')\n",
        "elif(longitud >= 8):\n",
        "  print(personas,'ustedes ya son demasiados pero son los mejores')\n",
        "else:\n",
        "  print('que bueno que llegaron')\n",
        "\n",
        "# in esta en\n",
        "if(\"Jorge\" in personas):\n",
        "  print('Jorge!!! Cuanto tiempo de no verte!')"
      ]
    },
    {
      "cell_type": "markdown",
      "metadata": {
        "id": "fFAvCb3iP_nk"
      },
      "source": [
        "# Ciclos"
      ]
    },
    {
      "cell_type": "code",
      "execution_count": 2,
      "metadata": {
        "colab": {
          "base_uri": "https://localhost:8080/"
        },
        "id": "AB8GAuyVP5hV",
        "outputId": "0f0442ae-8f66-49dd-81c4-9f1f4ded078d"
      },
      "outputs": [
        {
          "name": "stdout",
          "output_type": "stream",
          "text": [
            "Ejemplo 1: Imprimir elementos de una lista\n",
            "Pikachu\n",
            "Squirtle\n",
            "Charmander\n",
            "Evee\n",
            "Ejemplo 2: Imprimir elementos con ciclo for\n",
            "Pikachu\n",
            "Squirtle\n",
            "Charmander\n",
            "Evee\n",
            "4\n",
            "6\n",
            "8\n",
            "0\n",
            "20\n",
            "40\n",
            "60\n",
            "80\n"
          ]
        }
      ],
      "source": [
        "pokemons = [\"Pikachu\", \"Squirtle\", \"Charmander\", \"Evee\"] \n",
        "print('Ejemplo 1: Imprimir elementos de una lista')\n",
        "print(pokemons[0])\n",
        "print(pokemons[1])\n",
        "print(pokemons[2])\n",
        "print(pokemons[3])\n",
        "\n",
        "# for( in pokemons):\n",
        "# se va a ejecutar tantos elementos existan en la lista\n",
        "print('Ejemplo 2: Imprimir elementos con ciclo for')\n",
        "\n",
        "for pokemon in pokemons:\n",
        "  print(pokemon)\n",
        "\n",
        "\n",
        "# contar del 4 al 8(sin contarlo) de 2 en 2\n",
        "\n",
        "for valor in range(4,9,2):\n",
        "  print(valor)\n",
        "\n",
        "# contar del x al y(sin contarlo) de z en z\n",
        "# range(x,y,z)\n",
        "\n",
        "for valor in range(0,100,20):\n",
        "  print(valor)\n"
      ]
    },
    {
      "cell_type": "code",
      "execution_count": 40,
      "metadata": {
        "colab": {
          "base_uri": "https://localhost:8080/"
        },
        "id": "jw6albHBU6kh",
        "outputId": "ef3072db-9fcc-4029-f4ea-144249186fea"
      },
      "outputs": [
        {
          "name": "stdout",
          "output_type": "stream",
          "text": [
            "0\n",
            "1\n",
            "2\n",
            "3\n",
            "4\n"
          ]
        }
      ],
      "source": [
        "count = 0\n",
        "while True:\n",
        "    print(count)\n",
        "    count += 1 # 1,2,3,4,5\n",
        "    if count >= 5: \n",
        "        break # detiene el ciclo"
      ]
    },
    {
      "cell_type": "code",
      "execution_count": 41,
      "metadata": {
        "colab": {
          "base_uri": "https://localhost:8080/"
        },
        "id": "QNJ9IYSzVTWl",
        "outputId": "ccb5f3de-98d0-46ec-aee8-1d43863cbfc9"
      },
      "outputs": [
        {
          "name": "stdout",
          "output_type": "stream",
          "text": [
            "1\n",
            "3\n",
            "5\n",
            "7\n",
            "9\n"
          ]
        }
      ],
      "source": [
        "for x in range(10):\n",
        "    # Chequéa si x es numero par\n",
        "    # 0 / 2 sobra 0\n",
        "    # 1 / 2 sobra 1\n",
        "    # 2 / 2 sobra 0\n",
        "    if x % 2 == 0:\n",
        "        continue #vuelve al principio ignorando lo que sigue\n",
        "    print(x)\n"
      ]
    }
  ],
  "metadata": {
    "colab": {
      "collapsed_sections": [],
      "name": "G15-Condicionales Ciclos y Listas.ipynb",
      "provenance": []
    },
    "kernelspec": {
      "display_name": "Python 3",
      "name": "python3"
    },
    "language_info": {
      "codemirror_mode": {
        "name": "ipython",
        "version": 3
      },
      "file_extension": ".py",
      "mimetype": "text/x-python",
      "name": "python",
      "nbconvert_exporter": "python",
      "pygments_lexer": "ipython3",
      "version": "3.9.12"
    }
  },
  "nbformat": 4,
  "nbformat_minor": 0
}
