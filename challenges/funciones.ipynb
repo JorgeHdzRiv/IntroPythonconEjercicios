{
 "cells": [
  {
   "cell_type": "markdown",
   "metadata": {},
   "source": [
    "# Ejercicios funciones en python"
   ]
  },
  {
   "cell_type": "markdown",
   "metadata": {},
   "source": [
    "## 1. Write a Python function to find the Max of three numbers."
   ]
  },
  {
   "cell_type": "code",
   "execution_count": 16,
   "metadata": {},
   "outputs": [
    {
     "name": "stdout",
     "output_type": "stream",
     "text": [
      "6 5 9\n"
     ]
    }
   ],
   "source": [
    "# With if condition\n",
    "def max_nums(a,b,c):\n",
    "    if a > b and a > c:\n",
    "        return a\n",
    "    elif b > a and b > c:\n",
    "        return b\n",
    "    else:\n",
    "        return c\n",
    "\n",
    "print(\n",
    "    max_nums(1,5,6),\n",
    "    max_nums(5,2,-3),\n",
    "    max_nums(2,9,-1) \n",
    ")\n",
    "    \n"
   ]
  },
  {
   "cell_type": "code",
   "execution_count": 7,
   "metadata": {},
   "outputs": [
    {
     "name": "stdout",
     "output_type": "stream",
     "text": [
      "6 5 9\n"
     ]
    }
   ],
   "source": [
    "# With funcion max for more help execute help(max)\n",
    "\n",
    "#help(max)\n",
    "\n",
    "def maxi_numbers(a,b,c):\n",
    "    return max(a,b,c)\n",
    "\n",
    "print(\n",
    "    maxi_numbers(1,5,6),\n",
    "    maxi_numbers(5,2,-3),\n",
    "    maxi_numbers(2,9,-1)\n",
    "    \n",
    ")"
   ]
  },
  {
   "cell_type": "markdown",
   "metadata": {},
   "source": [
    "## 2.Write a Python function to sum all the numbers in a list. \n",
    "Sample List : (8, 2, 3, 0, 7)\n",
    "Expected Output : 20"
   ]
  },
  {
   "cell_type": "code",
   "execution_count": 31,
   "metadata": {},
   "outputs": [
    {
     "name": "stdout",
     "output_type": "stream",
     "text": [
      "The sum all fo the numbers of the list is:  20\n"
     ]
    }
   ],
   "source": [
    "# With for cicle\n",
    "def sum_numbers_for(list):\n",
    "    sum_all = 0\n",
    "    for i in list:\n",
    "        sum_all += i\n",
    "    return sum_all\n",
    "list= [8,2,3,0,7]\n",
    "print(\"The sum all fo the numbers of the list is: \",sum_numbers_for(list))\n"
   ]
  },
  {
   "cell_type": "code",
   "execution_count": 21,
   "metadata": {},
   "outputs": [
    {
     "name": "stdout",
     "output_type": "stream",
     "text": [
      "20\n"
     ]
    }
   ],
   "source": [
    "# With funcion max for more help execute help(sum)\n",
    "# help(sum)\n",
    "\n",
    "def sum_number(*args):\n",
    "    return sum(args)\n",
    "\n",
    "print(sum_number(8,2,3,0,7))"
   ]
  },
  {
   "cell_type": "markdown",
   "metadata": {},
   "source": [
    "## 3. Write a Python function to multiply all the numbers in a list\n",
    "Sample List : (8, 2, 3, -1, 7)\n",
    "Expected Output : -336\n"
   ]
  },
  {
   "cell_type": "code",
   "execution_count": 22,
   "metadata": {},
   "outputs": [
    {
     "name": "stdout",
     "output_type": "stream",
     "text": [
      "The add for the all elements of list is:  -336\n"
     ]
    }
   ],
   "source": [
    "def multi_list(list):\n",
    "    sum = 1\n",
    "    for i in list:\n",
    "        sum = sum*i\n",
    "    return sum\n",
    "\n",
    "list= [8,2,3,-1,7]\n",
    "print(\"The add for the all elements of list is: \",multi_list(list))"
   ]
  },
  {
   "cell_type": "markdown",
   "metadata": {},
   "source": [
    "## 4. Write a Python program to reverse a string. \n",
    "Sample String : \"1234abcd\"\n",
    "Expected Output : \"dcba4321\"\n"
   ]
  },
  {
   "cell_type": "code",
   "execution_count": 28,
   "metadata": {},
   "outputs": [
    {
     "name": "stdout",
     "output_type": "stream",
     "text": [
      "dcba4321\n",
      "1234abcd\n"
     ]
    }
   ],
   "source": [
    "def reverse_string(string):\n",
    "    temp_string = ''\n",
    "    size = len(string)\n",
    "\n",
    "    while size > 0 :\n",
    "        temp_string = temp_string + string[size-1]\n",
    "        size = size - 1\n",
    "    return temp_string\n",
    "\n",
    "string = \"1234abcd\"\n",
    "\n",
    "print(reverse_string(string))\n",
    "\n",
    "    \n",
    "    "
   ]
  },
  {
   "cell_type": "markdown",
   "metadata": {},
   "source": [
    "## 5. Write a Python function to calculate the factorial of a number (a non-negative integer). The function accepts the number as an argument.\n"
   ]
  },
  {
   "cell_type": "code",
   "execution_count": 35,
   "metadata": {},
   "outputs": [
    {
     "name": "stdout",
     "output_type": "stream",
     "text": [
      "Factorial of 5 is 120\n"
     ]
    }
   ],
   "source": [
    "def factorial(num): \n",
    "    if num < 0: \n",
    "        print(\"Factorial of negative num does not exist\")\n",
    "\n",
    "    elif num == 0: \n",
    "        return 1\n",
    "\n",
    "    else: \n",
    "        fact = 1\n",
    "        while(num > 1): \n",
    "            fact *= num \n",
    "            num -= 1\n",
    "        return fact \n",
    "\n",
    "num = 5; \n",
    "\n",
    "print(\"Factorial of\",num,\"is\", factorial(num))\n",
    "    \n",
    "    "
   ]
  },
  {
   "cell_type": "markdown",
   "metadata": {},
   "source": [
    "## 6. Write a Python function to check whether a number falls in a given range. "
   ]
  },
  {
   "cell_type": "code",
   "execution_count": 40,
   "metadata": {},
   "outputs": [
    {
     "name": "stdout",
     "output_type": "stream",
     "text": [
      "The number: 5 is outside the given range\n"
     ]
    }
   ],
   "source": [
    "def number_in_range(num):\n",
    "    start = int(input(\"Start number: \"))\n",
    "    last = int(input(\"Last number: \"))\n",
    "\n",
    "    if num in range(start,last):\n",
    "        print('The number: ',num,'is in the range')\n",
    "    else:\n",
    "        print('The number:',num,'is outside the given range')\n",
    "\n",
    "number_in_range(5)\n"
   ]
  },
  {
   "cell_type": "markdown",
   "metadata": {},
   "source": [
    "## 7. Write a Python function that accepts a string and calculate the number of upper case letters and lower case letters. \n",
    "Sample String : 'The quick Brow Fox'\n",
    "Expected Output :\n",
    "No. of Upper case characters : 3\n",
    "No. of Lower case Characters : 12\n"
   ]
  },
  {
   "cell_type": "markdown",
   "metadata": {},
   "source": [
    "## 8. Write a Python function that takes a list and returns a new list with unique elements of the first list. \n",
    "Sample List : [1,2,3,3,3,3,4,5]\n",
    "Unique List : [1, 2, 3, 4, 5]\n"
   ]
  },
  {
   "cell_type": "markdown",
   "metadata": {},
   "source": [
    "## 9. Write a Python function that takes a number as a parameter and check the number is prime or not. \n",
    "Note : A prime number (or a prime) is a natural number greater than 1 and that has no positive divisors other than 1 and itself.\n"
   ]
  },
  {
   "cell_type": "markdown",
   "metadata": {},
   "source": [
    "## 10. Write a Python program to print the even numbers from a given list. Go to the editor\n",
    "Sample List : [1, 2, 3, 4, 5, 6, 7, 8, 9]\n",
    "Expected Result : [2, 4, 6, 8]\n",
    "Click me to see the sample solution"
   ]
  },
  {
   "cell_type": "markdown",
   "metadata": {},
   "source": [
    "## 11. Write a Python function to check whether a number is perfect or not. Go to the editor\n",
    "According to Wikipedia : In number theory, a perfect number is a positive integer that is equal to the sum of its proper positive divisors, that is, the sum of its positive divisors excluding the number itself (also known as its aliquot sum). Equivalently, a perfect number is a number that is half the sum of all of its positive divisors (including itself).\n",
    "Example : The first perfect number is 6, because 1, 2, and 3 are its proper positive divisors, and 1 + 2 + 3 = 6. Equivalently, the number 6 is equal to half the sum of all its positive divisors: ( 1 + 2 + 3 + 6 ) / 2 = 6. The next perfect number is 28 = 1 + 2 + 4 + 7 + 14. This is followed by the perfect numbers 496 and 8128.\n",
    "Click me to see the sample solution"
   ]
  },
  {
   "cell_type": "markdown",
   "metadata": {},
   "source": [
    "## 12. Write a Python function that checks whether a passed string is palindrome or not. Go to the editor\n",
    "Note: A palindrome is a word, phrase, or sequence that reads the same backward as forward, e.g., madam or nurses run.\n",
    "Click me to see the sample solution"
   ]
  },
  {
   "cell_type": "markdown",
   "metadata": {},
   "source": [
    "## 13. Write a Python function that prints out the first n rows of Pascal's triangle. Go to the editor\n",
    "Note : Pascal's triangle is an arithmetic and geometric figure first imagined by Blaise Pascal.\n",
    "\n",
    "Sample Pascal's triangle :\n",
    "\n",
    "Pascal's triangle\n",
    "Each number is the two numbers above it added together Go to the editor\n",
    "Click me to see the sample solution"
   ]
  },
  {
   "cell_type": "markdown",
   "metadata": {},
   "source": [
    "## 14. Write a Python function to check whether a string is a pangram or not. Go to the editor\n",
    "Note : Pangrams are words or sentences containing every letter of the alphabet at least once.\n",
    "For example : \"The quick brown fox jumps over the lazy dog\"\n",
    "Click me to see the sample solution"
   ]
  },
  {
   "cell_type": "markdown",
   "metadata": {},
   "source": [
    "## 15. Write a Python program that accepts a hyphen-separated sequence of words as input and prints the words in a hyphen-separated sequence after sorting them alphabetically. Go to the editor\n",
    "Sample Items : green-red-yellow-black-white\n",
    "Expected Result : black-green-red-white-yellow\n",
    "Click me to see the sample solution"
   ]
  },
  {
   "cell_type": "markdown",
   "metadata": {},
   "source": [
    "## 16. Write a Python function to create and print a list where the values are square of numbers between 1 and 30 (both included). Go to the editor\n",
    "Click me to see the sample solution"
   ]
  },
  {
   "cell_type": "markdown",
   "metadata": {},
   "source": [
    "## 17. Write a Python program to make a chain of function decorators (bold, italic, underline etc.) in Python. Go to the editor\n",
    "Click me to see the sample solution"
   ]
  },
  {
   "cell_type": "markdown",
   "metadata": {},
   "source": [
    "## 18. Write a Python program to execute a string containing Python code. Go to the editor\n",
    "Click me to see the sample solution"
   ]
  },
  {
   "cell_type": "markdown",
   "metadata": {},
   "source": [
    "## 19. Write a Python program to access a function inside a function. Go to the editor\n",
    "Click me to see the sample solution"
   ]
  },
  {
   "cell_type": "markdown",
   "metadata": {},
   "source": [
    "## 20. Write a Python program to detect the number of local variables declared in a function. Go to the editor\n",
    "Sample Output:\n",
    "3\n",
    "Click me to see the sample solution"
   ]
  },
  {
   "cell_type": "markdown",
   "metadata": {},
   "source": [
    "## 21. Write a Python program that invoke a given function after specific milliseconds. Go to the editor\n",
    "Sample Output:\n",
    "Square root after specific miliseconds:\n",
    "4.0\n",
    "10.0\n",
    "158.42979517754858\n",
    "Click me to see the sample solution"
   ]
  }
 ],
 "metadata": {
  "interpreter": {
   "hash": "b372869f454a6d74f45e3f53abdf328a4d3df77fb97b1958e9e1e78f61a79e75"
  },
  "kernelspec": {
   "display_name": "Python 3.9.12 64-bit (windows store)",
   "language": "python",
   "name": "python3"
  },
  "language_info": {
   "codemirror_mode": {
    "name": "ipython",
    "version": 3
   },
   "file_extension": ".py",
   "mimetype": "text/x-python",
   "name": "python",
   "nbconvert_exporter": "python",
   "pygments_lexer": "ipython3",
   "version": "3.9.12"
  },
  "orig_nbformat": 4
 },
 "nbformat": 4,
 "nbformat_minor": 2
}
