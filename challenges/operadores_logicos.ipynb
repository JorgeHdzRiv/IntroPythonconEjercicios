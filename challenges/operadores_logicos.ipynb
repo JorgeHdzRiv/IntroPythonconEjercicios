{
  "cells": [
    {
      "cell_type": "markdown",
      "metadata": {
        "id": "VEn_SLPyboN0"
      },
      "source": [
        "#Los operadores lógicos \n",
        "\n"
      ]
    },
    {
      "cell_type": "markdown",
      "metadata": {
        "id": "P1vqdpRJQMv6"
      },
      "source": [
        "Recordemos los operadores de comparación\n",
        "\n",
        "![img1](https://facialix.com/images/cond.png)"
      ]
    },
    {
      "cell_type": "markdown",
      "metadata": {
        "id": "jXKTPrImShCj"
      },
      "source": [
        "y veamos algunos ejemplos de los operadores logicos en acción\n",
        "\n",
        "![img2](https://facialix.com/images/logicos.png)"
      ]
    },
    {
      "cell_type": "markdown",
      "metadata": {
        "id": "Ltf91jwLSB_d"
      },
      "source": [
        "**En este ejercicio debes mostrar el valor que se obtiene de las sentencias al ejecutarlas en codigo y explicarlas:**"
      ]
    },
    {
      "cell_type": "markdown",
      "metadata": {
        "id": "8CXLWwF2TS5D"
      },
      "source": [
        "1) **not true**"
      ]
    },
    {
      "cell_type": "code",
      "execution_count": 1,
      "metadata": {
        "id": "dn0D2e0wB4mv"
      },
      "outputs": [
        {
          "data": {
            "text/plain": [
              "False"
            ]
          },
          "execution_count": 1,
          "metadata": {},
          "output_type": "execute_result"
        }
      ],
      "source": [
        "#Escribe el codigo aquí\n",
        "not True\n",
        "\n",
        "\n"
      ]
    },
    {
      "cell_type": "markdown",
      "metadata": {
        "id": "LIIjBScjETLc"
      },
      "source": [
        "El operador **not** niega el estado al cual se aplique en esta imagen se muestra mas detallado\n",
        "\n",
        "![](https://i1.wp.com/hazloexpress.com/wp-content/uploads/2016/11/operador-not.png)\n",
        "\n",
        "\n"
      ]
    },
    {
      "cell_type": "markdown",
      "metadata": {
        "id": "JGlH_p9ll3yO"
      },
      "source": [
        "2) **not (1+2 != 3)**"
      ]
    },
    {
      "cell_type": "code",
      "execution_count": 2,
      "metadata": {
        "id": "_hobkTpAUEB4"
      },
      "outputs": [
        {
          "data": {
            "text/plain": [
              "True"
            ]
          },
          "execution_count": 2,
          "metadata": {},
          "output_type": "execute_result"
        }
      ],
      "source": [
        "#Escribe el codigo aquí\n",
        "not (1+2!=3)\n",
        "\n",
        "\n"
      ]
    },
    {
      "cell_type": "markdown",
      "metadata": {
        "id": "0Gw_3yeSFKRf"
      },
      "source": [
        "Internamente python evalua primero la expresion de parentesis procendiendo a sumar 1+2 que es 3\n",
        "\n",
        "Despues compara la expresion logica 3!=3 que es igual a False\n",
        "\n",
        "Finalmente como se ve en la imagen el operador not niega este resultado siendo igual a **True**"
      ]
    },
    {
      "cell_type": "markdown",
      "metadata": {
        "id": "nTis6gKvoNkm"
      },
      "source": [
        "3) **x = (len(\"jugar\") > 5) and (len(\"jugar\") < 10)**"
      ]
    },
    {
      "cell_type": "code",
      "execution_count": 6,
      "metadata": {
        "colab": {
          "base_uri": "https://localhost:8080/"
        },
        "id": "I3I7VbTdoin4",
        "outputId": "224317b6-73be-4043-ea37-01be5ec3ce68"
      },
      "outputs": [
        {
          "data": {
            "text/plain": [
              "False"
            ]
          },
          "execution_count": 6,
          "metadata": {},
          "output_type": "execute_result"
        }
      ],
      "source": [
        "#Escribe el codigo aquí\n",
        "x = (len(\"jugar\")>5) and (len(\"jugar\") < 10)\n",
        "x\n"
      ]
    },
    {
      "cell_type": "markdown",
      "metadata": {
        "id": "Zml_nA0vFPqR"
      },
      "source": [
        "El primer len de longitud de la cadena cuenta cada caracter, la palabra **jugar** cuenta con 5 caracteres lo cual 5>5 igual **False**\n",
        "\n",
        "En el segundo parentesis 5 < 10 igual a **True**\n",
        "\n",
        "El operador and dice que los dos valores deben ser positivos para regresar un **True** por lo cual al evaluar el resultado es **False**\n",
        "\n",
        "![](https://i1.wp.com/hazloexpress.com/wp-content/uploads/2016/11/operaodor-and.png?fit=565%2C302)\n",
        "\n"
      ]
    },
    {
      "cell_type": "markdown",
      "metadata": {
        "id": "HOwNy5VOorNy"
      },
      "source": [
        "4) **\"alto\"[2] == \"t\" and x**"
      ]
    },
    {
      "cell_type": "code",
      "execution_count": 9,
      "metadata": {
        "id": "mZx6iGmeoqEA"
      },
      "outputs": [
        {
          "data": {
            "text/plain": [
              "False"
            ]
          },
          "execution_count": 9,
          "metadata": {},
          "output_type": "execute_result"
        }
      ],
      "source": [
        "#Escribe el codigo aquí\n",
        "\"alto\"[2] == \"t\" and x\n",
        "\n",
        "\n",
        "\n"
      ]
    },
    {
      "cell_type": "markdown",
      "metadata": {
        "id": "ze-L4sA0FZv1"
      },
      "source": [
        "El uso de los corchetes en la cadena **\"alto\"** indican que caracter va a tomar la condicion empezando por 0 el cual \"alto\"[2]\n",
        "da como resultado \"t\" lo cual **\"t\"==\"t\"** es **True**\n",
        "\n",
        "La segunda evaluacion hace referencia al valor de **x** anterior que fue **False** \n",
        "\n",
        "Por lo tanto **True** and **False** = **False** \n",
        "\n",
        "Se puede ver la imagen anterior como referencia al operador **and**"
      ]
    },
    {
      "cell_type": "markdown",
      "metadata": {
        "id": "cCqs1tjHNpv4"
      },
      "source": [
        "5) **842913%10 != 3 and len(\"café\") == 3**"
      ]
    },
    {
      "cell_type": "code",
      "execution_count": 15,
      "metadata": {
        "id": "70-kC-f9oqAe"
      },
      "outputs": [
        {
          "data": {
            "text/plain": [
              "False"
            ]
          },
          "execution_count": 15,
          "metadata": {},
          "output_type": "execute_result"
        }
      ],
      "source": [
        "#Escribe el codigo aquí\n",
        "842913%10 != 3 and len(\"café\") == 3\n",
        "\n",
        "\n"
      ]
    },
    {
      "cell_type": "markdown",
      "metadata": {
        "id": "TpDnFFjcGdkj"
      },
      "source": [
        "Podemos dividir el codigo de la siguiente manera\n",
        "\n",
        "**842913%10 == 3**\n",
        "\n",
        "**3!=3** lo que da **False**\n",
        "\n",
        "**len(\"café\")** da **4** \n",
        "\n",
        "**4==3** lo que da **False**\n",
        "\n",
        "Y por ultimo **False and False** da como resultado **False**\n",
        "\n",
        "![](https://i1.wp.com/hazloexpress.com/wp-content/uploads/2016/11/operaodor-and.png?fit=565%2C302)\n",
        "\n",
        "\n"
      ]
    },
    {
      "cell_type": "markdown",
      "metadata": {
        "id": "ato2HirpOAy9"
      },
      "source": [
        "6) **0!=0 or \"a\" < \"y\"**"
      ]
    },
    {
      "cell_type": "code",
      "execution_count": 16,
      "metadata": {
        "id": "r4NtOzm3op94"
      },
      "outputs": [
        {
          "data": {
            "text/plain": [
              "True"
            ]
          },
          "execution_count": 16,
          "metadata": {},
          "output_type": "execute_result"
        }
      ],
      "source": [
        "#Escribe el codigo aquí\n",
        "0!=0 or \"a\" < \"y\"\n",
        "\n",
        "\n"
      ]
    },
    {
      "cell_type": "markdown",
      "metadata": {
        "id": "Roy4PanwGfxi"
      },
      "source": [
        "Al igual que en los codigos anteriores podemos ver el codigo de la siguiente manera:\n",
        "\n",
        "**0!=0** igual a **False**\n",
        "\n",
        "Para los caracteres debemos considerar los valores en codigo ASCII \n",
        "\n",
        "![](https://img2.freepng.es/20180423/bhw/kisspng-ascii-character-value-hexadecimal-color-table-5ade64150a71b7.1771723115245240530428.jpg)\n",
        "\n",
        "**\"a\"<\"y\"** lo que da **True**\n",
        "\n",
        "Finalmente el operador **False or True**  igual a **True** ya que para el operador **or** con un valor **True** dara **True**\n",
        "\n",
        "![](https://i1.wp.com/hazloexpress.com/wp-content/uploads/2016/11/operador-o.png)\n",
        "\n"
      ]
    },
    {
      "cell_type": "markdown",
      "metadata": {
        "id": "5W25SYZeORtE"
      },
      "source": [
        "7) **True or int(\"50\") >= 50**"
      ]
    },
    {
      "cell_type": "code",
      "execution_count": 17,
      "metadata": {
        "id": "mTpYdCzFop7s"
      },
      "outputs": [
        {
          "data": {
            "text/plain": [
              "True"
            ]
          },
          "execution_count": 17,
          "metadata": {},
          "output_type": "execute_result"
        }
      ],
      "source": [
        "#Escribe el codigo aquí\n",
        "True or int(\"50\") >= 50\n",
        "\n"
      ]
    },
    {
      "cell_type": "markdown",
      "metadata": {
        "id": "hMZpEBHCGkqJ"
      },
      "source": [
        "En la primer expresion damos por hecho que sera **True**\n",
        "\n",
        "En la segunda parte hace una conversion del dato **\"50\"\"** a un valor entero o 50 simplemente despues\n",
        "se hace la comparacion **50>=50** que da **True**\n",
        "\n",
        "Y finalmente **True or True** da **True**"
      ]
    },
    {
      "cell_type": "markdown",
      "metadata": {
        "id": "Dp4beMsqOhOh"
      },
      "source": [
        "8) **edad = 20**\n",
        "\n",
        "**not(x) or edad%2==0**"
      ]
    },
    {
      "cell_type": "code",
      "execution_count": 26,
      "metadata": {
        "id": "bTco9wG8op5G"
      },
      "outputs": [
        {
          "name": "stdout",
          "output_type": "stream",
          "text": [
            "El valor de x es:  False\n"
          ]
        },
        {
          "data": {
            "text/plain": [
              "True"
            ]
          },
          "execution_count": 26,
          "metadata": {},
          "output_type": "execute_result"
        }
      ],
      "source": [
        "#Escribe el codigo aquí\n",
        "\n",
        "edad = 20\n",
        "print(\"El valor de x es: \",x)\n",
        "\n",
        "not(x) or edad%2==0\n",
        "\n"
      ]
    },
    {
      "cell_type": "markdown",
      "metadata": {
        "id": "AyH5LeZ4HgaZ"
      },
      "source": [
        "Al igual forma el valor de **x** anteriormente usado es **False** entonces **not(False) = True**\n",
        "\n",
        "El modulo de 20 es 0 entonces la condicion **edad%2==0** es igual a **True** \n",
        "\n",
        "Entonces **True or True** igual a **True**"
      ]
    },
    {
      "cell_type": "markdown",
      "metadata": {
        "id": "QXou2mt7Oy4r"
      },
      "source": [
        "9) **es_cliente = False**\n",
        "\n",
        "**not (es_cliente and not(edad < 18))**"
      ]
    },
    {
      "cell_type": "code",
      "execution_count": 27,
      "metadata": {
        "id": "-p3G0qH3op2X"
      },
      "outputs": [
        {
          "data": {
            "text/plain": [
              "True"
            ]
          },
          "execution_count": 27,
          "metadata": {},
          "output_type": "execute_result"
        }
      ],
      "source": [
        "#Escribe el codigo aquí\n",
        "es_cliente = False\n",
        "\n",
        "not (es_cliente and not(edad < 18))\n",
        "\n"
      ]
    },
    {
      "cell_type": "markdown",
      "metadata": {
        "id": "hBpjtW7iHhW8"
      },
      "source": [
        "Podemos dividir el codigo de la siguiente manera\n",
        "\n",
        "**not(edad<18)** edad anteriormente tenia un valor de 20 entonces **edad<18 = False** y **not(False) = True**\n",
        "\n",
        "**es_cliente = False** entonces **False and True = False** \n",
        "\n",
        "Finalmente not nos cambiara este valor a un **True**"
      ]
    },
    {
      "cell_type": "markdown",
      "metadata": {
        "id": "_jKHKuBkbxhX"
      },
      "source": [
        "###Recursos extra para estudiar y ejercios\n"
      ]
    },
    {
      "cell_type": "markdown",
      "metadata": {
        "id": "86XEDrCbdBCr"
      },
      "source": [
        "- Video corto de Coursera: [Tablas de verdad y álgebra booleana](https://www.coursera.org/lecture/programacion-python/tablas-de-verdad-y-algebra-booleana-JJs0E)\n",
        "- Articulo corto de [Tablas de la verdad](https://www.ecured.cu/Tablas_de_la_verdad)\n",
        "- Ejercicios practicos en portal de [Tablas de Verdad](https://www.edu.xunta.gal/espazoAbalar/sites/espazoAbalar/files/datos/1493724904/contido/tablas_de_verdad.html)\n",
        "- Guía de [Ejercicios de Lógica](https://www.fing.edu.uy/tecnoinf/mvd/cursos/mdl1/material/pra/buceo_noct/mdl1-pr-logica.pdf)"
      ]
    }
  ],
  "metadata": {
    "colab": {
      "collapsed_sections": [],
      "name": "Los operadores lógicos - challenge.ipynb",
      "provenance": []
    },
    "kernelspec": {
      "display_name": "Python 3",
      "name": "python3"
    },
    "language_info": {
      "codemirror_mode": {
        "name": "ipython",
        "version": 3
      },
      "file_extension": ".py",
      "mimetype": "text/x-python",
      "name": "python",
      "nbconvert_exporter": "python",
      "pygments_lexer": "ipython3",
      "version": "3.9.12"
    }
  },
  "nbformat": 4,
  "nbformat_minor": 0
}
